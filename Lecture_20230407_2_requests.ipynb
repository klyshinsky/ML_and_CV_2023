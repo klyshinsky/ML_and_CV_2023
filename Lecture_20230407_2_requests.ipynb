{
 "cells": [
  {
   "cell_type": "markdown",
   "metadata": {},
   "source": [
    "Давайте решим следующую задачу.<br>\n",
    "Необходимо написать робота, который будет скачивать новости с сайта Лента.Ру и фильтровать их в зависимости от интересов пользователя. От пользователя требуется отмечать интересующие его новости, по которым система будет выделять области его интересов.<br>\n"
   ]
  },
  {
   "cell_type": "markdown",
   "metadata": {},
   "source": [
    "Начнем с загрузки новостей. Для этого нам потребуется метод requests.get(url). Библиотека requests предоставляет серьезные возможности для загрузки информации из Интернет. Метод get получает URL стараницы и возвращает ее содержимое. В нашем случае результат будет получаться в формате html. <br>\n",
    "Загрузим необходимые библиотеки."
   ]
  },
  {
   "cell_type": "code",
   "execution_count": 1,
   "metadata": {},
   "outputs": [],
   "source": [
    "import requests # Загрузка новостей с сайта.\n",
    "from bs4 import BeautifulSoup # Превращалка html в текст.\n",
    "import re # Регулярные выражения."
   ]
  },
  {
   "cell_type": "markdown",
   "metadata": {},
   "source": [
    "Теперь попробуем загрузить страницу новостей."
   ]
  },
  {
   "cell_type": "code",
   "execution_count": 2,
   "metadata": {
    "scrolled": true
   },
   "outputs": [
    {
     "data": {
      "text/plain": [
       "<Response [200]>"
      ]
     },
     "execution_count": 2,
     "metadata": {},
     "output_type": "execute_result"
    }
   ],
   "source": [
    "# Для пробы получаем первую страницу сайта.\n",
    "requests.get(\"https://lenta.ru/\")"
   ]
  },
  {
   "cell_type": "markdown",
   "metadata": {},
   "source": [
    "Метод <i>requests.get()</i> возвращает объект Response, который содержит большое количество различной информации о загруженной (или незагруженной) странице. В краткой форме отображается только результат выполения запроса. В нашем случае это 200, нет ошибки.<br> \n",
    "Посмотрим что результат содержит еще."
   ]
  },
  {
   "cell_type": "code",
   "execution_count": 3,
   "metadata": {},
   "outputs": [
    {
     "name": "stdout",
     "output_type": "stream",
     "text": [
      "cookies: <RequestsCookieJar[<Cookie is_mobile=0 for .lenta.ru/>, <Cookie lid=vAsAAD1gYmJmIvYsATW/HQB= for .lenta.ru/>, <Cookie lids=48202266980FDA75 for .lenta.ru/>]>\n",
      "time to download: 0:00:00.311823\n",
      "page encoding utf-8\n",
      "Server response:  200\n",
      "Is everything ok?  True\n",
      "Page's URL:  https://lenta.ru/news/2018/08/24/clon/\n",
      "CPU times: user 25.5 ms, sys: 11.3 ms, total: 36.8 ms\n",
      "Wall time: 330 ms\n"
     ]
    }
   ],
   "source": [
    "%%time\n",
    "# %%time - Магия Jupyter - замеряет время выполнения ячейки. Должно быть первой строчкой в ячейке.\n",
    "resp = requests.get(\"https://lenta.ru/news/2018/08/24/clon/\")\n",
    "print(\"cookies:\", resp.cookies)\n",
    "print(\"time to download:\", resp.elapsed)\n",
    "print(\"page encoding\", resp.encoding)\n",
    "print(\"Server response: \", resp.status_code)\n",
    "print(\"Is everything ok? \", resp.ok)\n",
    "print(\"Page's URL: \", resp.url)"
   ]
  },
  {
   "cell_type": "markdown",
   "metadata": {},
   "source": [
    "Но самое для нас интересное хранится в поле <i>text</i>, которое содержит собственно текст html-страницы."
   ]
  },
  {
   "cell_type": "code",
   "execution_count": 4,
   "metadata": {},
   "outputs": [
    {
     "data": {
      "text/plain": [
       "'<!DOCTYPE html><html lang=\"ru\"><head><title>В Сибири нашли подходящих для клонирования древних животных: Наука: Наука и техника: Lenta.ru</title><meta charset=\"utf-8\" /><meta content=\"#292929\" name=\"theme-color\" /><link href=\"https://m.lenta.ru/news/2018/08/24/clon/\" media=\"only screen and (max-width: 640px)\" rel=\"alternate\" /><link href=\"https://lenta.ru/rss/google-newsstand/main/\" rel=\"alternate\" type=\"application/rss+xml\" /><link href=\"https://lenta.ru/news/2018/08/24/clon/\" rel=\"canonical\" /><link href=\"/manifest.json\" rel=\"manifest\" /><link rel=\"shortcut icon\" type=\"image/x-icon\" href=\"https://icdn.lenta.ru/favicon.ico\" /><link rel=\"apple-touch-icon\" type=\"image/x-icon\" href=\"https://icdn.lenta.ru/images/icons/icon-256x256.png\" size=\"256x256\" /><link rel=\"apple-touch-icon\" type=\"image/x-icon\" href=\"https://icdn.lenta.ru/images/icons/icon-192x192.png\" size=\"192x192\" /><link rel=\"apple-touch-icon\" type=\"image/x-icon\" href=\"https://icdn.lenta.ru/images/icons/icon-152x152.png\" size=\"1'"
      ]
     },
     "execution_count": 4,
     "metadata": {},
     "output_type": "execute_result"
    }
   ],
   "source": [
    "#Берем первые 1000 символов новости.\n",
    "resp.text[:1000]"
   ]
  },
  {
   "cell_type": "markdown",
   "metadata": {},
   "source": [
    "Количество служебной информации в странице явно превышает объем текста новости. У нас есть два пути: либо использовать библиотеку BeautyfulSoup для получения текста статьи, либо получить текст с использованием регулярных выражений.\n",
    "\n",
    "Опробуем первый путь. Документация на библиотеку BeautyfulSoup находится <a href=\"https://www.crummy.com/software/BeautifulSoup/bs4/doc/\">здесь</a>.\n",
    "\n",
    "В ячейке ниже мы создаем объект BeautifulSoup, передаем в него текст html-страницы и сообщаем, что разбирать его надо при помощи библиотеки `html5lib`. Далее просим отдать текст страницы без html-тегов."
   ]
  },
  {
   "cell_type": "code",
   "execution_count": 5,
   "metadata": {
    "collapsed": true,
    "jupyter": {
     "outputs_hidden": true
    }
   },
   "outputs": [
    {
     "data": {
      "text/plain": [
       "'В Сибири нашли подходящих для клонирования древних животных: Наука: Наука и техника: Lenta.ru{\"@context\":\"http://schema.org\",\"@type\":\"NewsArticle\",\"headline\":\"В Сибири нашли подходящих для клонирования древних животных\",\"description\":\"Палеонтологи обнаружили в Якутии тушу жеребенка, возраст которой достигает 30-40 тысяч лет, а также останки мамонта с мягкими тканями. Специалисты отмечают хорошее состояние тела лошади, пролежавшей в вечной мерзлоте. Подобные находки имеют большое количество сохранившейся ДНК, которая подходит для клонирования.\",\"name\":\"В Сибири нашли подходящих для клонирования древних животных\",\"url\":\"https://lenta.ru/news/2018/08/24/clon/\",\"mainEntityOfPage\":{\"@type\":\"WebPage\",\"@id\":\"https://lenta.ru/news/2018/08/24/clon/\"},\"associatedMedia\":\"\",\"thumbnailUrl\":\"https://icdn.lenta.ru/images/2018/08/24/13/20180824130540171/detail_fb4ef24e26e8448a2a23747f000a4489.jpg\",\"dateCreated\":\"2018-08-24T15:22:00+03:00\",\"datePublished\":\"2018-08-24T15:22:00+03:00\",\"dateModified\":\"201'"
      ]
     },
     "execution_count": 5,
     "metadata": {},
     "output_type": "execute_result"
    }
   ],
   "source": [
    "BeautifulSoup(resp.text, \"html5lib\").get_text()[:1000]"
   ]
  },
  {
   "cell_type": "markdown",
   "metadata": {},
   "source": [
    "Да, убрать html-теги получилось. Но их содержимое осталось, в том числе и скрипты.<br>\n",
    "Опробуем другой путь. Весь текст обычно оформляется тегом параграфа - &lt;p&gt;. Выберем весь текст из этих тегов. Заодно выберем и заголовок статьи, оформленный при помощи \\<h1\\>."
   ]
  },
  {
   "cell_type": "code",
   "execution_count": 6,
   "metadata": {
    "scrolled": true
   },
   "outputs": [
    {
     "name": "stdout",
     "output_type": "stream",
     "text": [
      "В Сибири нашли подходящих для клонирования древних животных \n",
      "-----\n",
      " Фото: AP Российские палеонтологи обнаружили в Якутии тушу жеребенка, возраст которой достигает 30-40 тысяч лет, а также останки мамонта с мягкими тканями. Об этом сообщается в пресс-релизе на Phys.org. Специалисты отмечают хорошее состояние тела лошади, пролежавшей в вечной мерзлоте. Таким образом, находка является потенциально пригодной для клонирования животного. У найденного ископаемого, относящегося к вымершему виду Equus lenensis, сохранились кожа, шерсть, копыта, хвост и внутренние органы. Возраст жеребенка на момент смерти составлял примерно 2-3 месяца. Причиной смерти, вероятно, является попадание в какую-то «ловушку» естественного происхождения, поскольку видимых повреждений на теле не было. У трупа были взяты образцы шерсти и биологических жидкостей для тщательного генетического анализа. По словам исследователей, на данный момент это самые хорошо сохранившиеся из всех останков древних лошадей. В 2015 году в Якутии палеонтологи нашли хорошо сохранившиеся останки двух пещерных львят. Тогда ученые заинтересовались возможностью клонирования древних животных из тканей, «законсервированных» в вечной мерзлоте.\n"
     ]
    }
   ],
   "source": [
    "# Получили объект BeautifulSoup и скормили ему текст страницы.\n",
    "bs=BeautifulSoup(resp.text, \"html5lib\") \n",
    "# Вот таким образом можно попросить отдать первый тег, отмеченный как h1. Вместо h1 можно написать любой другой тег.\n",
    "title=bs.h1.text\n",
    "# Получаем все параграфы (тег p), берем их текст без тегов и склеиваем в один текст.\n",
    "text=\" \".join([p.text for p in bs.find_all(\"p\")])\n",
    "print(title, \"\\n-----\\n\", text)"
   ]
  },
  {
   "cell_type": "markdown",
   "metadata": {},
   "source": [
    "Получилось хорошо. Но опробуем второй путь.<br>\n",
    "Теперь попробуем использовать регулярные выражения в два шага. На первом мы вырежем только саму новость с ее оформлением используя для этого регулярные выражения (библиотека re). На втором шаге мы используем библиотеку BeautifulSoup для \"выкусывания\" тегов html."
   ]
  },
  {
   "cell_type": "code",
   "execution_count": 7,
   "metadata": {},
   "outputs": [
    {
     "ename": "IndexError",
     "evalue": "list index out of range",
     "output_type": "error",
     "traceback": [
      "\u001b[0;31m---------------------------------------------------------------------------\u001b[0m",
      "\u001b[0;31mIndexError\u001b[0m                                Traceback (most recent call last)",
      "\u001b[0;32m/tmp/ipykernel_331914/2939741990.py\u001b[0m in \u001b[0;36m<module>\u001b[0;34m\u001b[0m\n\u001b[1;32m     10\u001b[0m \u001b[0mtitle\u001b[0m \u001b[0;34m=\u001b[0m \u001b[0mfindheaders\u001b[0m\u001b[0;34m.\u001b[0m\u001b[0mfindall\u001b[0m\u001b[0;34m(\u001b[0m\u001b[0mart\u001b[0m\u001b[0;34m.\u001b[0m\u001b[0mtext\u001b[0m\u001b[0;34m)\u001b[0m\u001b[0;34m[\u001b[0m\u001b[0;36m0\u001b[0m\u001b[0;34m]\u001b[0m\u001b[0;34m\u001b[0m\u001b[0;34m\u001b[0m\u001b[0m\n\u001b[1;32m     11\u001b[0m \u001b[0;31m# Выделяем текст новости.\u001b[0m\u001b[0;34m\u001b[0m\u001b[0;34m\u001b[0m\u001b[0;34m\u001b[0m\u001b[0m\n\u001b[0;32m---> 12\u001b[0;31m \u001b[0mtext\u001b[0m \u001b[0;34m=\u001b[0m \u001b[0meoa\u001b[0m\u001b[0;34m.\u001b[0m\u001b[0msplit\u001b[0m\u001b[0;34m(\u001b[0m\u001b[0mboa\u001b[0m\u001b[0;34m.\u001b[0m\u001b[0msplit\u001b[0m\u001b[0;34m(\u001b[0m\u001b[0mart\u001b[0m\u001b[0;34m.\u001b[0m\u001b[0mtext\u001b[0m\u001b[0;34m)\u001b[0m\u001b[0;34m[\u001b[0m\u001b[0;36m1\u001b[0m\u001b[0;34m]\u001b[0m\u001b[0;34m)\u001b[0m\u001b[0;34m\u001b[0m\u001b[0;34m\u001b[0m\u001b[0m\n\u001b[0m\u001b[1;32m     13\u001b[0m \u001b[0;31m# Иногда новость оканчивается другим набором тегов.\u001b[0m\u001b[0;34m\u001b[0m\u001b[0;34m\u001b[0m\u001b[0;34m\u001b[0m\u001b[0m\n\u001b[1;32m     14\u001b[0m \u001b[0;32mif\u001b[0m \u001b[0mlen\u001b[0m\u001b[0;34m(\u001b[0m\u001b[0mtext\u001b[0m\u001b[0;34m)\u001b[0m\u001b[0;34m==\u001b[0m\u001b[0;36m1\u001b[0m\u001b[0;34m:\u001b[0m\u001b[0;34m\u001b[0m\u001b[0;34m\u001b[0m\u001b[0m\n",
      "\u001b[0;31mIndexError\u001b[0m: list index out of range"
     ]
    }
   ],
   "source": [
    "# Компилируем регулярные выражения для выделения заголовка, маркера начала и конца статьи, удаления скриптов.\n",
    "findheaders = re.compile(\"<h1.+?>(.+)</h1>\", re.S)\n",
    "boa = re.compile('<div class=\"b-text clearfix js-topic__text\" itemprop=\"articleBody\">', re.S)\n",
    "eoa = re.compile('<div class=\"b-box\">\\s*?<i>', re.S)\n",
    "delscript = re.compile(\"<script.*?>.+?</script>\", re.S)\n",
    "\n",
    "# Получает текст страницы.\n",
    "art=requests.get(\"https://lenta.ru/news/2018/08/24/clon/\")\n",
    "# Находим заголовок.\n",
    "title = findheaders.findall(art.text)[0]\n",
    "# Выделяем текст новости.\n",
    "text = eoa.split(boa.split(art.text)[1])\n",
    "# Иногда новость оканчивается другим набором тегов.\n",
    "if len(text)==1:\n",
    "    text = re.split('<div itemprop=\"author\" itemscope=\"\"', text[0])\n",
    "# Выкусываем скрипты - BeautifulSoup не справляетсяя с ними.\n",
    "text = \" \".join(delscript.split(text[0]))\n",
    "# Выкусываем остальные теги.\n",
    "print(BeautifulSoup(title+\"\\n-----\\n\"+text, \"lxml\").get_text())\n"
   ]
  },
  {
   "cell_type": "markdown",
   "metadata": {},
   "source": [
    "Обратите внимание на этот фрагмент.\n",
    "\n",
    "<i>... видимых повреждений на теле не было.У трупа были взяты образцы шерсти...</i>\n",
    "\n",
    "BeautyfulSoup именно \"выкусывает\" теги, не заменяя их на пробелы. Иногда это можжет приводить к искожению текста из-за \"склеивания\" слов.\n",
    "\n",
    "Попробуем вместо этого заменить теги на пробелы при помощи регулярных выражений."
   ]
  },
  {
   "cell_type": "code",
   "execution_count": 8,
   "metadata": {},
   "outputs": [
    {
     "name": "stdout",
     "output_type": "stream",
     "text": [
      "<span class=\"topic-body__title\">В Сибири нашли подходящих для клонирования древних животных</span>\n",
      "-----\n",
      "Фото: AP Российские палеонтологи обнаружили в Якутии тушу жеребенка, возраст которой достигает 30-40 тысяч лет, а также останки мамонта с мягкими тканями. Об этом сообщается в пресс-релизе на Phys.org. Специалисты отмечают хорошее состояние тела лошади, пролежавшей в вечной мерзлоте. Таким образом, находка является потенциально пригодной для клонирования животного. У найденного ископаемого, относящегося к вымершему виду Equus lenensis, сохранились кожа, шерсть, копыта, хвост и внутренние органы. Возраст жеребенка на момент смерти составлял примерно 2-3 месяца. Причиной смерти, вероятно, является попадание в какую-то «ловушку» естественного происхождения, поскольку видимых повреждений на теле не было. У трупа были взяты образцы шерсти и биологических жидкостей для тщательного генетического анализа. По словам исследователей, на данный момент это самые хорошо сохранившиеся из всех останков древних лошадей. В 2015 году в Якутии палеонтологи нашли хорошо сохранившиеся останки двух пещерных львят. Тогда ученые заинтересовались возможностью клонирования древних животных из тканей, «законсервированных» в вечной мерзлоте.\n"
     ]
    }
   ],
   "source": [
    "text=re.sub(\"<.+?>\", \" \", text)\n",
    "print(title+\"\\n-----\\n\"+text)"
   ]
  },
  {
   "cell_type": "markdown",
   "metadata": {},
   "source": [
    "Стало больше пробелов, но зато никто ни с кем не склеился."
   ]
  },
  {
   "cell_type": "code",
   "execution_count": null,
   "metadata": {},
   "outputs": [],
   "source": []
  },
  {
   "cell_type": "markdown",
   "metadata": {},
   "source": [
    "Теперь напишем функцию, которая выгружает все новости за сутки. <br>\n",
    "Обратим внимание, что для сайта Lenta.ru можно написать адрес в формате lenta.ru/ГГГГ/ММ/ДД/ (год, месяц, день) и получить все новости за этот день. Попробуем получить все адреса с такой страницы."
   ]
  },
  {
   "cell_type": "code",
   "execution_count": 9,
   "metadata": {
    "collapsed": true,
    "jupyter": {
     "outputs_hidden": true
    },
    "scrolled": true
   },
   "outputs": [
    {
     "data": {
      "text/plain": [
       "[<a class=\"js-menu-item\" href=\"/\" style=\"color: #ffffff\">Главное</a>,\n",
       " <a class=\"js-menu-item\" href=\"/rubrics/russia/\" style=\"color: #ffffff\">Россия</a>,\n",
       " <a class=\"js-menu-item\" href=\"/rubrics/world/\" style=\"color: #ffffff\">Мир</a>,\n",
       " <a class=\"js-menu-item\" href=\"/rubrics/ussr/\" style=\"color: #ffffff\">Бывший СССР</a>,\n",
       " <a class=\"js-menu-item\" href=\"/rubrics/economics/\" style=\"color: #ffffff\">Экономика</a>,\n",
       " <a class=\"js-menu-item\" href=\"/rubrics/forces/\" style=\"color: #ffffff\">Силовые структуры</a>,\n",
       " <a class=\"js-menu-item\" href=\"/rubrics/science/\" style=\"color: #ffffff\">Наука и техника</a>,\n",
       " <a class=\"js-menu-item\" href=\"/rubrics/culture/\" style=\"color: #ffffff\">Культура</a>,\n",
       " <a class=\"js-menu-item\" href=\"/rubrics/sport/\" style=\"color: #ffffff\">Спорт</a>,\n",
       " <a class=\"js-menu-item\" href=\"/rubrics/media/\" style=\"color: #ffffff\">Интернет и СМИ</a>,\n",
       " <a class=\"js-menu-item\" href=\"/rubrics/style/\" style=\"color: #ffffff\">Ценности </a>,\n",
       " <a class=\"js-menu-item\" href=\"/rubrics/travel/\" style=\"color: #ffffff\">Путешествия</a>,\n",
       " <a class=\"js-menu-item\" href=\"/rubrics/life/\" style=\"color: #ffffff\">Из жизни</a>,\n",
       " <a class=\"js-menu-item\" href=\"/rubrics/realty/\" style=\"color: #ffffff\">Среда обитания</a>,\n",
       " <a class=\"js-menu-item\" href=\"/rubrics/wellness/\">Забота о себе</a>,\n",
       " <a class=\"b-socials-subscribe__link _vk\" href=\"https://vk.com/lentaru?utm_source=lentasocialbuttons&amp;utm_campaign=vk\" target=\"_blank\"><svg class=\"b-socials-subscribe__icon _vk\"><use xlink:href=\"#ui-social-vk\"></use></svg></a>,\n",
       " <a class=\"b-socials-subscribe__link _tw\" href=\"https://twitter.com/lentaruofficial?utm_source=lentasocialbuttons&amp;utm_campaign=tw\" target=\"_blank\"><svg class=\"b-socials-subscribe__icon _tw\"><use xlink:href=\"#ui-social-tw\"></use></svg></a>,\n",
       " <a class=\"b-socials-subscribe__link _ok\" href=\"https://ok.ru/lentaru/?utm_source=lentasocialbuttons&amp;utm_campaign=ok\" target=\"_blank\"><svg class=\"b-socials-subscribe__icon _ok\"><use xlink:href=\"#ui-social-ok\"></use></svg></a>,\n",
       " <a class=\"b-socials-subscribe__link _yb\" href=\"https://www.youtube.com/channel/UCfqU-kKXq868D6d4fy8fhkA?utm_source=lentasocialbuttons&amp;utm_campaign=youtube\" target=\"_blank\"><svg class=\"b-socials-subscribe__icon _yb\"><use xlink:href=\"#ui-social-yb\"></use></svg></a>,\n",
       " <a class=\"b-socials-subscribe__link _tg\" href=\"https://t.me/lentadnya/?utm_source=lentasocialbuttons&amp;utm_campaign=tlgrm\" target=\"_blank\"><svg class=\"b-socials-subscribe__icon _tg\"><use xlink:href=\"#ui-social-tg\"></use></svg></a>]"
      ]
     },
     "execution_count": 9,
     "metadata": {},
     "output_type": "execute_result"
    }
   ],
   "source": [
    "# Идем на страницу, получаем ее текст, отдаем в BeautifulSoup, ищем все теги ссылок - а.\n",
    "BeautifulSoup(requests.get(\"http://lenta.ru/2018/08/25/\").text, \"html5lib\").find_all(\"a\")[:20]"
   ]
  },
  {
   "cell_type": "markdown",
   "metadata": {},
   "source": [
    "Кажется, это опять немного не то, что нам нужно. Мы получили все ссылки, находящиеся на боковом меню, ссылки на события сегодняшнего дня и другие ненужные нам вещи. <br>\n",
    "Смотрим в содержимое html-страницы и обращаем внимание, что все интересные нам ссылки оформлены как заголовки третьего уровня - &lt;h3&gt;. Извлечем все такие фрагменты, а потом извлечем собственно адреса, помеченные атрибутом href тега &lt;a&gt;."
   ]
  },
  {
   "cell_type": "code",
   "execution_count": 10,
   "metadata": {},
   "outputs": [
    {
     "ename": "IndexError",
     "evalue": "list index out of range",
     "output_type": "error",
     "traceback": [
      "\u001b[0;31m---------------------------------------------------------------------------\u001b[0m",
      "\u001b[0;31mIndexError\u001b[0m                                Traceback (most recent call last)",
      "\u001b[0;32m/tmp/ipykernel_331914/1706365000.py\u001b[0m in \u001b[0;36m<module>\u001b[0;34m\u001b[0m\n\u001b[1;32m      3\u001b[0m \u001b[0;31m# Формируем список ссылок. Для этого берем первую (кстати, единственную) ссылку из каждого выделенного\u001b[0m\u001b[0;34m\u001b[0m\u001b[0;34m\u001b[0m\u001b[0;34m\u001b[0m\u001b[0m\n\u001b[1;32m      4\u001b[0m \u001b[0;31m# фрагмента, у нее берем значение параметра href. Так как ссылки внутренние, добавляем к ним адрес сайта.\u001b[0m\u001b[0;34m\u001b[0m\u001b[0;34m\u001b[0m\u001b[0;34m\u001b[0m\u001b[0m\n\u001b[0;32m----> 5\u001b[0;31m \u001b[0mlinks\u001b[0m\u001b[0;34m=\u001b[0m\u001b[0;34m[\u001b[0m\u001b[0;34m\"https://lenta.ru\"\u001b[0m\u001b[0;34m+\u001b[0m\u001b[0ml\u001b[0m\u001b[0;34m.\u001b[0m\u001b[0mfind_all\u001b[0m\u001b[0;34m(\u001b[0m\u001b[0;34m\"a\"\u001b[0m\u001b[0;34m)\u001b[0m\u001b[0;34m[\u001b[0m\u001b[0;36m0\u001b[0m\u001b[0;34m]\u001b[0m\u001b[0;34m[\u001b[0m\u001b[0;34m\"href\"\u001b[0m\u001b[0;34m]\u001b[0m \u001b[0;32mfor\u001b[0m \u001b[0ml\u001b[0m \u001b[0;32min\u001b[0m \u001b[0mh3s\u001b[0m\u001b[0;34m]\u001b[0m\u001b[0;34m\u001b[0m\u001b[0;34m\u001b[0m\u001b[0m\n\u001b[0m\u001b[1;32m      6\u001b[0m \u001b[0mprint\u001b[0m\u001b[0;34m(\u001b[0m\u001b[0mlinks\u001b[0m\u001b[0;34m)\u001b[0m\u001b[0;34m\u001b[0m\u001b[0;34m\u001b[0m\u001b[0m\n",
      "\u001b[0;32m/tmp/ipykernel_331914/1706365000.py\u001b[0m in \u001b[0;36m<listcomp>\u001b[0;34m(.0)\u001b[0m\n\u001b[1;32m      3\u001b[0m \u001b[0;31m# Формируем список ссылок. Для этого берем первую (кстати, единственную) ссылку из каждого выделенного\u001b[0m\u001b[0;34m\u001b[0m\u001b[0;34m\u001b[0m\u001b[0;34m\u001b[0m\u001b[0m\n\u001b[1;32m      4\u001b[0m \u001b[0;31m# фрагмента, у нее берем значение параметра href. Так как ссылки внутренние, добавляем к ним адрес сайта.\u001b[0m\u001b[0;34m\u001b[0m\u001b[0;34m\u001b[0m\u001b[0;34m\u001b[0m\u001b[0m\n\u001b[0;32m----> 5\u001b[0;31m \u001b[0mlinks\u001b[0m\u001b[0;34m=\u001b[0m\u001b[0;34m[\u001b[0m\u001b[0;34m\"https://lenta.ru\"\u001b[0m\u001b[0;34m+\u001b[0m\u001b[0ml\u001b[0m\u001b[0;34m.\u001b[0m\u001b[0mfind_all\u001b[0m\u001b[0;34m(\u001b[0m\u001b[0;34m\"a\"\u001b[0m\u001b[0;34m)\u001b[0m\u001b[0;34m[\u001b[0m\u001b[0;36m0\u001b[0m\u001b[0;34m]\u001b[0m\u001b[0;34m[\u001b[0m\u001b[0;34m\"href\"\u001b[0m\u001b[0;34m]\u001b[0m \u001b[0;32mfor\u001b[0m \u001b[0ml\u001b[0m \u001b[0;32min\u001b[0m \u001b[0mh3s\u001b[0m\u001b[0;34m]\u001b[0m\u001b[0;34m\u001b[0m\u001b[0;34m\u001b[0m\u001b[0m\n\u001b[0m\u001b[1;32m      6\u001b[0m \u001b[0mprint\u001b[0m\u001b[0;34m(\u001b[0m\u001b[0mlinks\u001b[0m\u001b[0;34m)\u001b[0m\u001b[0;34m\u001b[0m\u001b[0;34m\u001b[0m\u001b[0m\n",
      "\u001b[0;31mIndexError\u001b[0m: list index out of range"
     ]
    }
   ],
   "source": [
    "# Теперь выделим только то, что взято в тег h3.\n",
    "h3s=BeautifulSoup(requests.get(\"http://lenta.ru/2018/08/25/\").text, \"html5lib\").find_all(\"h3\")\n",
    "# Формируем список ссылок. Для этого берем первую (кстати, единственную) ссылку из каждого выделенного\n",
    "# фрагмента, у нее берем значение параметра href. Так как ссылки внутренние, добавляем к ним адрес сайта.\n",
    "links=[\"https://lenta.ru\"+l.find_all(\"a\")[0][\"href\"] for l in h3s]\n",
    "print(links)"
   ]
  },
  {
   "cell_type": "markdown",
   "metadata": {},
   "source": [
    "Если теперь написать функцию, которая будет перебирать все адреса и получать из них тексты новостей, то мы получим все новости за определенные сутки. Но это мы сделаем чть позже, а пока просто оформим код загрузки статьи в виде функции."
   ]
  },
  {
   "cell_type": "code",
   "execution_count": 12,
   "metadata": {},
   "outputs": [],
   "source": [
    "# Загрузка статьи по URL.\n",
    "def getOneLentaArticle(url):\n",
    "    \"\"\" getLentaArticle gets the body of an article from Lenta.ru\"\"\"\n",
    "    # Получает текст страницы.\n",
    "    resp=requests.get(url)\n",
    "    # Загружаем текст в объект типа BeautifulSoup.\n",
    "    bs=BeautifulSoup(resp.text, \"html5lib\") \n",
    "    # Получаем заголовок статьи.\n",
    "    aTitle=bs.h1.text.replace(\"\\xa0\", \" \")\n",
    "    # Получаем текст статьи.\n",
    "    anArticle=BeautifulSoup(\" \".join([p.text for p in bs.find_all(\"p\")]), \"html5lib\").get_text().replace(\"\\xa0\", \" \")\n",
    "    # Возвращаем кортеж из заголовка и текста статьи.\n",
    "    return aTitle, anArticle\n"
   ]
  },
  {
   "cell_type": "markdown",
   "metadata": {},
   "source": [
    "### XPath\n",
    "[Ссылка 1](https://habr.com/ru/post/526774/)\n",
    "\n",
    "[Ссылка 2](https://habr.com/ru/post/464897/)\n",
    "\n",
    "XPath позволяет задать шаблон для пути от корня XML-дерева к интересующей нас вершине.\n",
    "\n",
    "- . - корень XML-дерева\n",
    "- / - переход на один уровень ниже.\n",
    "- // - переход на ноль или больше уровней вниз.\n",
    "- \\* - любая вершина.\n",
    "- xyz - название вершины.\n",
    "- [@feature] - вершина с параметром feature.\n",
    "- [@feature='111'] - вершина с параметром feature, равным \"111\".\n",
    "- xyz[n] - n-ый потомок вершины xyz."
   ]
  },
  {
   "cell_type": "markdown",
   "metadata": {},
   "source": [
    "А теперь давайте посмотрим как мы можем при помощи XPath обрабатывать HTML-документы."
   ]
  },
  {
   "cell_type": "code",
   "execution_count": 11,
   "metadata": {},
   "outputs": [],
   "source": [
    "from lxml import html"
   ]
  },
  {
   "cell_type": "code",
   "execution_count": 12,
   "metadata": {},
   "outputs": [],
   "source": [
    "page = requests.get('https://lenta.ru/news/2021/02/27/apple_effect/')"
   ]
  },
  {
   "cell_type": "code",
   "execution_count": 24,
   "metadata": {},
   "outputs": [
    {
     "name": "stdout",
     "output_type": "stream",
     "text": [
      "Обнаружен неожиданный эффект от употребления яблок\n",
      "15:35, 27 февраля 2021\n",
      "Соня Кошечкина \n",
      "\n",
      "Ученые из Университета Квинсленда и Немецкого центра нейродегенеративных заболеваний  обнаружили неожиданный эффект от употребления яблок. Опыты проводились на мышах. Специалисты культивировали стволовые клетки мозга взрослых мышей и добавляли в них содержащиеся в яблоках фитонутриенты. \n",
      "\n"
     ]
    }
   ],
   "source": [
    "tree = html.fromstring(page.text)\n",
    "print(tree.xpath(\".//h1\")[0].text_content())\n",
    "print(tree.xpath(\".//time[contains(@class, 'topic-header__time')]\")[0].text_content().strip())\n",
    "print(tree.xpath(\".//div[contains(@class, 'topic-authors')]\")[0].text_content().strip(), '\\n')\n",
    "print(tree.xpath(\".//meta[@property='og:description']\")[0].get(\"content\"), '\\n')\n",
    "\n",
    "for p in tree.xpath(\".//div[@itemprop='articleBody']/p\"):\n",
    "    print(p.text_content())"
   ]
  },
  {
   "cell_type": "markdown",
   "metadata": {},
   "source": [
    "А теперь та же страница, но через BeautyfulSoup."
   ]
  },
  {
   "cell_type": "code",
   "execution_count": 25,
   "metadata": {},
   "outputs": [
    {
     "name": "stdout",
     "output_type": "stream",
     "text": [
      "Анатолий Жданов / «Коммерсантъ»\n",
      "Ученые из Университета Квинсленда и Немецкого центра нейродегенеративных заболеваний обнаружили неожиданный эффект от употребления яблок. Результаты исследования появились в научном журнале Stem Cell Reports.\n",
      "Опыты проводились на мышах. Специалисты культивировали стволовые клетки мозга взрослых мышей и добавляли в них содержащиеся в яблоках фитонутриенты. Исследование показало, что высокая концентрация фитонутриентов способствует образованию новых нейронов.\n",
      "По словам ученых, определенные фитонутриенты положительно влияют на работу органов, в том числе мозга. Выяснилось, что они оказывают на организм тот же эффект, что и физическая активность, которая также стимулирует нейрогенез.\n",
      "Ранее ученые из Технологического университета австрийского Граца выяснили, что большинство людей неправильно едят яблоки. Исследователи утверждают, что до 90 процентов полезных веществ сосредоточены в сердцевине этого фрукта, и поэтому яблоко желательно съедать вместе с огрызком.\n"
     ]
    }
   ],
   "source": [
    "souped = BeautifulSoup(page.text)\n",
    "\n",
    "title = souped(\"h1\")[0].get_text()\n",
    "when = souped.find_all(\"time\", attrs={'class': 'topic-header__time'})[0].get_text().strip()\n",
    "author = souped.find_all(\"div\", attrs={'class': 'topic-authors'})[0].get_text()\n",
    "description = souped.find_all(\"meta\", attrs={'property': 'og:description'})[0][\"content\"]\n",
    "\n",
    "for p in souped.find_all(\"div\", attrs={'class': 'topic-body'})[0](\"p\"): \n",
    "    print(p.get_text())"
   ]
  },
  {
   "cell_type": "code",
   "execution_count": null,
   "metadata": {},
   "outputs": [],
   "source": []
  }
 ],
 "metadata": {
  "kernelspec": {
   "display_name": "Python 3 (ipykernel)",
   "language": "python",
   "name": "python3"
  },
  "language_info": {
   "codemirror_mode": {
    "name": "ipython",
    "version": 3
   },
   "file_extension": ".py",
   "mimetype": "text/x-python",
   "name": "python",
   "nbconvert_exporter": "python",
   "pygments_lexer": "ipython3",
   "version": "3.10.6"
  }
 },
 "nbformat": 4,
 "nbformat_minor": 4
}
