{
 "cells": [
  {
   "cell_type": "markdown",
   "metadata": {},
   "source": [
    "# Функции активации"
   ]
  },
  {
   "cell_type": "markdown",
   "metadata": {},
   "source": [
    "Основные неплохо рассмотрены [здесь](https://neurohive.io/ru/osnovy-data-science/activation-functions/).\n",
    "\n",
    "Полный список [здесь](https://ru.wikipedia.org/wiki/%D0%A4%D1%83%D0%BD%D0%BA%D1%86%D0%B8%D1%8F_%D0%B0%D0%BA%D1%82%D0%B8%D0%B2%D0%B0%D1%86%D0%B8%D0%B8)."
   ]
  },
  {
   "cell_type": "markdown",
   "metadata": {},
   "source": [
    "# Функции потерь"
   ]
  },
  {
   "cell_type": "markdown",
   "metadata": {},
   "source": [
    "\n",
    "#### 1. (R)MSE ((Root) Mean Squared Error)\n",
    "\n",
    "$$ L(\\hat{y}, y) = \\frac{1}{N}\\sum\\limits_n^N (y_n - \\hat{y}_n)^2$$\n",
    "\n",
    "#### 2. MAE (Mean Absolute Error)\n",
    "\n",
    "$$ L(\\hat{y}, y) = \\frac{1}{N}\\sum\\limits_n^N |y_n - \\hat{y}_n|$$\n"
   ]
  },
  {
   "cell_type": "markdown",
   "metadata": {},
   "source": [
    "**3. RSE (Relative Squared Error)**\n",
    "\n",
    "$$ L(\\hat{y}, y) = \\sqrt\\frac{\\sum\\limits_n^N (y_n - \\hat{y}_n)^2}{\\sum\\limits_n^N (y_n - \\bar{y})^2}$$\n",
    "\n",
    "**4. RAE (Relative Absolute Error)**\n",
    "\n",
    "$$ L(\\hat{y}, y) = \\frac{\\sum\\limits_n^N |y_n - \\hat{y}_n|}{\\sum\\limits_n^N |y_n - \\bar{y}|}$$\n",
    "\n",
    "**5. MAPE (Mean Absolute Persentage Error)**\n",
    "\n",
    "$$ L(\\hat{y}, y) = \\frac{100}{N} \\sum\\limits_n^N\\left|\\frac{ y_n - \\hat{y}_n}{y_n}\\right|$$\n",
    "\n",
    "\n"
   ]
  },
  {
   "cell_type": "markdown",
   "metadata": {},
   "source": [
    "**6. RMSLE (Root Mean Squared Logarithmic Error)**\n",
    "\n",
    "$$ L(\\hat{y}, y) = \\sqrt{\\frac{1}{N}\\sum\\limits_n^N(\\log(y_n + 1) - \\log(\\hat{y}_n + 1))^2}$$"
   ]
  },
  {
   "cell_type": "markdown",
   "metadata": {},
   "source": [
    "# Искусственные нейронные сети"
   ]
  },
  {
   "cell_type": "markdown",
   "metadata": {},
   "source": [
    "Считываем набор данных цифр MNIST."
   ]
  },
  {
   "cell_type": "code",
   "execution_count": 1,
   "metadata": {},
   "outputs": [],
   "source": [
    "from sklearn.datasets import load_digits\n",
    "import matplotlib.pyplot as plt\n",
    "from sklearn.model_selection import train_test_split\n",
    "from sklearn.metrics import confusion_matrix, precision_recall_fscore_support, accuracy_score\n",
    "import numpy as np"
   ]
  },
  {
   "cell_type": "code",
   "execution_count": 2,
   "metadata": {},
   "outputs": [],
   "source": [
    "digits = load_digits()"
   ]
  },
  {
   "cell_type": "code",
   "execution_count": 3,
   "metadata": {},
   "outputs": [
    {
     "data": {
      "image/png": "[encoded data removed]",
      "text/plain": [
       "<Figure size 432x288 with 1 Axes>"
      ]
     },
     "metadata": {
      "needs_background": "light"
     },
     "output_type": "display_data"
    }
   ],
   "source": [
    "img = digits.images\n",
    "plt.imshow(img[1], cmap=plt.cm.Greys_r);"
   ]
  },
  {
   "cell_type": "code",
   "execution_count": 4,
   "metadata": {},
   "outputs": [],
   "source": [
    "X = img.reshape(-1, 64)\n",
    "y = digits.target\n",
    "train_x, test_x, train_y, test_y = train_test_split(X, y, test_size=0.2)\n",
    "test_y = test_y.reshape(1, -1)"
   ]
  },
  {
   "cell_type": "markdown",
   "metadata": {},
   "source": [
    "Персептрон из библиотеки [sklearn](https://scikit-learn.org/stable/modules/generated/sklearn.neural_network.MLPClassifier.html?highlight=mlpclassifier#sklearn.neural_network.MLPClassifier)."
   ]
  },
  {
   "cell_type": "code",
   "execution_count": 5,
   "metadata": {},
   "outputs": [],
   "source": [
    "from sklearn.neural_network import MLPClassifier"
   ]
  },
  {
   "cell_type": "code",
   "execution_count": 361,
   "metadata": {},
   "outputs": [],
   "source": [
    "model = MLPClassifier((128, 64), activation='relu')"
   ]
  },
  {
   "cell_type": "code",
   "execution_count": 362,
   "metadata": {},
   "outputs": [
    {
     "data": {
      "text/plain": [
       "array([1, 5, 0, ..., 2, 8, 0])"
      ]
     },
     "execution_count": 362,
     "metadata": {},
     "output_type": "execute_result"
    }
   ],
   "source": [
    "train_y"
   ]
  },
  {
   "cell_type": "code",
   "execution_count": 363,
   "metadata": {},
   "outputs": [
    {
     "data": {
      "text/plain": [
       "MLPClassifier(activation='relu', alpha=0.0001, batch_size='auto', beta_1=0.9,\n",
       "              beta_2=0.999, early_stopping=False, epsilon=1e-08,\n",
       "              hidden_layer_sizes=(128, 64), learning_rate='constant',\n",
       "              learning_rate_init=0.001, max_iter=200, momentum=0.9,\n",
       "              n_iter_no_change=10, nesterovs_momentum=True, power_t=0.5,\n",
       "              random_state=None, shuffle=True, solver='adam', tol=0.0001,\n",
       "              validation_fraction=0.1, verbose=False, warm_start=False)"
      ]
     },
     "execution_count": 363,
     "metadata": {},
     "output_type": "execute_result"
    }
   ],
   "source": [
    "model.fit(train_x, train_y)"
   ]
  },
  {
   "cell_type": "code",
   "execution_count": 364,
   "metadata": {},
   "outputs": [],
   "source": [
    "y_hat = model.predict(test_x)"
   ]
  },
  {
   "cell_type": "code",
   "execution_count": 365,
   "metadata": {},
   "outputs": [
    {
     "data": {
      "text/plain": [
       "array([1, 9, 4, 5, 5, 4, 6, 6, 5, 3, 1, 2, 2, 7, 4, 5, 6, 4, 6, 0, 6, 1,\n",
       "       0, 6, 9, 3, 3, 0, 4, 1, 4, 1, 2, 1, 3, 0, 2, 0, 6, 9, 3, 9, 5, 2,\n",
       "       1, 4, 0, 1, 4, 7, 9, 9, 6, 1, 8, 2, 5, 0, 5, 9, 4, 8, 6, 3, 2, 7,\n",
       "       5, 5, 9, 1, 1, 9, 7, 9, 1, 8, 2, 4, 7, 4, 1, 6, 6, 2, 8, 6, 0, 8,\n",
       "       2, 8, 8, 6, 1, 6, 8, 1, 7, 4, 5, 5, 0, 5, 9, 2, 6, 8, 9, 6, 0, 3,\n",
       "       4, 0, 3, 4, 8, 3, 1, 9, 9, 4, 7, 6, 9, 0, 5, 2, 6, 1, 7, 4, 1, 0,\n",
       "       8, 3, 7, 1, 3, 2, 7, 9, 8, 9, 2, 3, 5, 6, 1, 3, 1, 6, 8, 9, 5, 4,\n",
       "       8, 3, 2, 7, 5, 9, 2, 7, 6, 7, 2, 3, 2, 8, 4, 8, 3, 0, 7, 7, 3, 8,\n",
       "       9, 9, 8, 0, 3, 5, 3, 4, 6, 2, 3, 6, 0, 4, 7, 7, 1, 8, 5, 4, 8, 5,\n",
       "       5, 6, 2, 3, 3, 8, 2, 9, 5, 7, 3, 0, 1, 4, 4, 4, 8, 3, 7, 2, 3, 0,\n",
       "       8, 3, 6, 0, 4, 6, 3, 8, 5, 0, 1, 7, 5, 2, 6, 4, 6, 6, 4, 3, 6, 8,\n",
       "       5, 5, 8, 3, 1, 2, 4, 5, 7, 4, 7, 8, 3, 2, 8, 0, 3, 7, 5, 9, 4, 9,\n",
       "       3, 3, 8, 1, 7, 8, 4, 1, 7, 5, 3, 4, 9, 9, 6, 1, 3, 3, 3, 1, 3, 5,\n",
       "       0, 6, 4, 5, 6, 6, 0, 0, 9, 9, 9, 2, 0, 2, 7, 1, 6, 1, 1, 6, 1, 4,\n",
       "       7, 2, 3, 3, 5, 9, 6, 4, 5, 2, 0, 4, 2, 5, 4, 9, 7, 1, 8, 3, 0, 3,\n",
       "       3, 2, 5, 7, 8, 0, 3, 2, 5, 1, 0, 0, 7, 2, 7, 3, 4, 2, 0, 8, 4, 7,\n",
       "       5, 1, 4, 0, 3, 2, 3, 7])"
      ]
     },
     "execution_count": 365,
     "metadata": {},
     "output_type": "execute_result"
    }
   ],
   "source": [
    "y_hat"
   ]
  },
  {
   "cell_type": "code",
   "execution_count": 366,
   "metadata": {},
   "outputs": [
    {
     "data": {
      "text/plain": [
       "array([[32,  0,  0,  0,  0,  0,  0,  0,  0,  0],\n",
       "       [ 0, 35,  0,  0,  0,  0,  0,  0,  0,  0],\n",
       "       [ 0,  0, 35,  0,  0,  0,  0,  0,  0,  0],\n",
       "       [ 0,  0,  0, 47,  0,  0,  0,  0,  0,  0],\n",
       "       [ 0,  0,  0,  0, 39,  0,  0,  0,  0,  0],\n",
       "       [ 0,  0,  0,  0,  0, 34,  0,  0,  0,  0],\n",
       "       [ 0,  0,  0,  0,  0,  0, 36,  0,  0,  0],\n",
       "       [ 0,  0,  0,  0,  0,  0,  0, 33,  0,  0],\n",
       "       [ 0,  1,  0,  0,  0,  1,  1,  0, 32,  0],\n",
       "       [ 0,  0,  0,  0,  1,  1,  0,  0,  1, 31]])"
      ]
     },
     "execution_count": 366,
     "metadata": {},
     "output_type": "execute_result"
    }
   ],
   "source": [
    "confusion_matrix(test_y.reshape(-1), y_hat)"
   ]
  },
  {
   "cell_type": "code",
   "execution_count": 367,
   "metadata": {},
   "outputs": [
    {
     "data": {
      "text/plain": [
       "(array([1.        , 0.97222222, 1.        , 1.        , 0.975     ,\n",
       "        0.94444444, 0.97297297, 1.        , 0.96969697, 1.        ]),\n",
       " array([1.        , 1.        , 1.        , 1.        , 1.        ,\n",
       "        1.        , 1.        , 1.        , 0.91428571, 0.91176471]),\n",
       " array([1.        , 0.98591549, 1.        , 1.        , 0.98734177,\n",
       "        0.97142857, 0.98630137, 1.        , 0.94117647, 0.95384615]),\n",
       " array([32, 35, 35, 47, 39, 34, 36, 33, 35, 34]))"
      ]
     },
     "execution_count": 367,
     "metadata": {},
     "output_type": "execute_result"
    }
   ],
   "source": [
    "precision_recall_fscore_support(test_y.reshape(-1), y_hat)"
   ]
  },
  {
   "cell_type": "code",
   "execution_count": 368,
   "metadata": {},
   "outputs": [
    {
     "data": {
      "text/plain": [
       "0.9833333333333333"
      ]
     },
     "execution_count": 368,
     "metadata": {},
     "output_type": "execute_result"
    }
   ],
   "source": [
    "accuracy_score(test_y.reshape(-1), y_hat)"
   ]
  },
  {
   "cell_type": "code",
   "execution_count": 37,
   "metadata": {},
   "outputs": [
    {
     "data": {
      "text/plain": [
       "['__abstractmethods__',\n",
       " '__class__',\n",
       " '__delattr__',\n",
       " '__dict__',\n",
       " '__dir__',\n",
       " '__doc__',\n",
       " '__eq__',\n",
       " '__format__',\n",
       " '__ge__',\n",
       " '__getattribute__',\n",
       " '__getstate__',\n",
       " '__gt__',\n",
       " '__hash__',\n",
       " '__init__',\n",
       " '__init_subclass__',\n",
       " '__le__',\n",
       " '__lt__',\n",
       " '__module__',\n",
       " '__ne__',\n",
       " '__new__',\n",
       " '__reduce__',\n",
       " '__reduce_ex__',\n",
       " '__repr__',\n",
       " '__setattr__',\n",
       " '__setstate__',\n",
       " '__sizeof__',\n",
       " '__str__',\n",
       " '__subclasshook__',\n",
       " '__weakref__',\n",
       " '_abc_cache',\n",
       " '_abc_negative_cache',\n",
       " '_abc_negative_cache_version',\n",
       " '_abc_registry',\n",
       " '_backprop',\n",
       " '_compute_loss_grad',\n",
       " '_estimator_type',\n",
       " '_fit',\n",
       " '_fit_lbfgs',\n",
       " '_fit_stochastic',\n",
       " '_forward_pass',\n",
       " '_get_param_names',\n",
       " '_get_tags',\n",
       " '_init_coef',\n",
       " '_initialize',\n",
       " '_loss_grad_lbfgs',\n",
       " '_partial_fit',\n",
       " '_predict',\n",
       " '_unpack',\n",
       " '_update_no_improvement_count',\n",
       " '_validate_hyperparameters',\n",
       " '_validate_input',\n",
       " 'activation',\n",
       " 'alpha',\n",
       " 'batch_size',\n",
       " 'beta_1',\n",
       " 'beta_2',\n",
       " 'early_stopping',\n",
       " 'epsilon',\n",
       " 'fit',\n",
       " 'get_params',\n",
       " 'hidden_layer_sizes',\n",
       " 'learning_rate',\n",
       " 'learning_rate_init',\n",
       " 'loss',\n",
       " 'max_iter',\n",
       " 'momentum',\n",
       " 'n_iter_no_change',\n",
       " 'nesterovs_momentum',\n",
       " 'partial_fit',\n",
       " 'power_t',\n",
       " 'predict',\n",
       " 'predict_log_proba',\n",
       " 'predict_proba',\n",
       " 'random_state',\n",
       " 'score',\n",
       " 'set_params',\n",
       " 'shuffle',\n",
       " 'solver',\n",
       " 'tol',\n",
       " 'validation_fraction',\n",
       " 'verbose',\n",
       " 'warm_start']"
      ]
     },
     "execution_count": 37,
     "metadata": {},
     "output_type": "execute_result"
    }
   ],
   "source": [
    "dir(model)"
   ]
  },
  {
   "cell_type": "code",
   "execution_count": 239,
   "metadata": {},
   "outputs": [
    {
     "data": {
      "text/plain": [
       "(3, 64)"
      ]
     },
     "execution_count": 239,
     "metadata": {},
     "output_type": "execute_result"
    }
   ],
   "source": [
    "len(model.coefs_), len(model.coefs_[0])"
   ]
  },
  {
   "cell_type": "code",
   "execution_count": 376,
   "metadata": {},
   "outputs": [
    {
     "data": {
      "text/plain": [
       "array([[-3.61047115e-04,  6.82383477e-08, -3.35580641e-03,\n",
       "         4.10279976e-02, -5.29807778e-02, -1.01026908e-01,\n",
       "        -1.28125074e-12,  6.20409165e-05],\n",
       "       [ 3.99671037e-04, -1.21226659e-12, -1.77193330e-02,\n",
       "         4.03372272e-02, -1.43856173e-01, -9.74830613e-02,\n",
       "        -3.27070842e-03,  5.10893961e-04],\n",
       "       [ 7.14595151e-05,  3.26888675e-02, -1.24170868e-01,\n",
       "        -1.24974547e-03, -7.06546826e-03,  1.53197840e-01,\n",
       "        -2.87188207e-12,  2.77389003e-13],\n",
       "       [-2.93796762e-07,  1.22580850e-01, -6.94314953e-02,\n",
       "         1.23171173e-01, -5.88514028e-02,  1.02602869e-01,\n",
       "        -1.05466531e-01, -3.82677341e-04],\n",
       "       [-8.68085447e-07,  9.71840908e-02,  1.70385071e-02,\n",
       "        -7.48480014e-02, -5.36987651e-02, -1.30958999e-01,\n",
       "        -4.28452120e-02,  5.00351366e-04],\n",
       "       [-1.10774637e-08,  1.22686278e-01,  1.21035401e-02,\n",
       "        -3.48196376e-03,  1.89765413e-02, -5.89808628e-02,\n",
       "        -6.43448481e-03, -1.05262900e-15],\n",
       "       [ 3.96034607e-16, -3.51558959e-15, -4.62718969e-02,\n",
       "        -1.72711777e-01, -6.43740559e-02,  5.19227202e-02,\n",
       "         1.67423039e-01, -3.69948674e-15],\n",
       "       [ 1.06325843e-03,  1.05895761e-03, -1.94556657e-03,\n",
       "         1.27430893e-01, -1.56204548e-01, -9.97320370e-02,\n",
       "         5.94590976e-02,  2.07241238e-04]])"
      ]
     },
     "execution_count": 376,
     "metadata": {},
     "output_type": "execute_result"
    }
   ],
   "source": [
    "model.coefs_[0][:, 10].reshape((8, -1))"
   ]
  },
  {
   "cell_type": "code",
   "execution_count": 375,
   "metadata": {},
   "outputs": [
    {
     "data": {
      "image/png": "[encoded data removed]",
      "text/plain": [
       "<Figure size 432x288 with 1 Axes>"
      ]
     },
     "metadata": {
      "needs_background": "light"
     },
     "output_type": "display_data"
    }
   ],
   "source": [
    "plt.imshow(model.coefs_[0][:, 10].reshape((8, -1)), cmap=plt.cm.Greys_r);"
   ]
  },
  {
   "cell_type": "code",
   "execution_count": null,
   "metadata": {},
   "outputs": [],
   "source": []
  },
  {
   "cell_type": "code",
   "execution_count": null,
   "metadata": {},
   "outputs": [],
   "source": []
  },
  {
   "cell_type": "markdown",
   "metadata": {},
   "source": [
    "Теперь попробуем сверточные и рекуррентные сети из Keras"
   ]
  },
  {
   "cell_type": "code",
   "execution_count": 48,
   "metadata": {},
   "outputs": [],
   "source": [
    "from tensorflow import keras\n",
    "from tensorflow.keras import layers\n",
    "from tensorflow.keras import Sequential"
   ]
  },
  {
   "cell_type": "markdown",
   "metadata": {},
   "source": [
    "Хорошо, сперва полносвязанная сеть."
   ]
  },
  {
   "cell_type": "code",
   "execution_count": 49,
   "metadata": {},
   "outputs": [],
   "source": [
    "model = keras.Sequential()\n",
    "model.add(layers.Dense(128, activation=\"tanh\", kernel_regularizer=keras.regularizers.l2(0.001)))\n",
    "model.add(layers.Dense(128, activation=\"tanh\", kernel_regularizer=keras.regularizers.l2(0.001)))\n",
    "model.add(layers.Dense(10, activation=\"softmax\"))\n",
    "model.compile(keras.optimizers.SGD(learning_rate=0.001), \n",
    "          keras.losses.MeanSquaredError(reduction='sum'),\n",
    "          metrics=['accuracy']\n",
    "         )\n"
   ]
  },
  {
   "cell_type": "code",
   "execution_count": 50,
   "metadata": {},
   "outputs": [],
   "source": [
    "train_y2 = []\n",
    "for y in train_y:\n",
    "    y2 = np.zeros(10)\n",
    "    y2[y] = 1\n",
    "    train_y2.append(y2)\n",
    "    \n",
    "test_y2 = []\n",
    "for y in test_y:\n",
    "    y2 = np.zeros(10)\n",
    "    y2[y] = 1\n",
    "    test_y2.append(y2)\n",
    "    \n",
    "train_y2 = np.array(train_y2)\n",
    "test_y2 = np.array(test_y2)"
   ]
  },
  {
   "cell_type": "code",
   "execution_count": 51,
   "metadata": {},
   "outputs": [
    {
     "data": {
      "text/plain": [
       "array([[0., 0., 0., ..., 1., 0., 0.],\n",
       "       [0., 0., 0., ..., 0., 0., 0.],\n",
       "       [0., 0., 0., ..., 0., 0., 0.],\n",
       "       ...,\n",
       "       [0., 0., 0., ..., 0., 0., 0.],\n",
       "       [0., 0., 0., ..., 0., 0., 0.],\n",
       "       [0., 0., 0., ..., 0., 0., 0.]])"
      ]
     },
     "execution_count": 51,
     "metadata": {},
     "output_type": "execute_result"
    }
   ],
   "source": [
    "train_y2"
   ]
  },
  {
   "cell_type": "code",
   "execution_count": 55,
   "metadata": {
    "scrolled": true
   },
   "outputs": [
    {
     "name": "stdout",
     "output_type": "stream",
     "text": [
      "Epoch 1/200\n",
      "288/288 [==============================] - 0s 1ms/step - loss: 0.2170 - accuracy: 0.9986\n",
      "Epoch 2/200\n",
      "288/288 [==============================] - 0s 1ms/step - loss: 0.2167 - accuracy: 0.9986\n",
      "Epoch 3/200\n",
      "288/288 [==============================] - 0s 1ms/step - loss: 0.2164 - accuracy: 0.9986\n",
      "Epoch 4/200\n",
      "288/288 [==============================] - 0s 1ms/step - loss: 0.2161 - accuracy: 0.9986\n",
      "Epoch 5/200\n",
      "288/288 [==============================] - 0s 1ms/step - loss: 0.2158 - accuracy: 0.9986\n",
      "Epoch 6/200\n",
      "288/288 [==============================] - 0s 1ms/step - loss: 0.2156 - accuracy: 0.9986\n",
      "Epoch 7/200\n",
      "288/288 [==============================] - 0s 1ms/step - loss: 0.2153 - accuracy: 0.9986\n",
      "Epoch 8/200\n",
      "288/288 [==============================] - 0s 1ms/step - loss: 0.2150 - accuracy: 0.9986\n",
      "Epoch 9/200\n",
      "288/288 [==============================] - 0s 1ms/step - loss: 0.2148 - accuracy: 0.9986\n",
      "Epoch 10/200\n",
      "288/288 [==============================] - 0s 1ms/step - loss: 0.2145 - accuracy: 0.9986\n",
      "Epoch 11/200\n",
      "288/288 [==============================] - 0s 1ms/step - loss: 0.2142 - accuracy: 0.9986\n",
      "Epoch 12/200\n",
      "288/288 [==============================] - 0s 1ms/step - loss: 0.2139 - accuracy: 0.9986\n",
      "Epoch 13/200\n",
      "288/288 [==============================] - 0s 1ms/step - loss: 0.2137 - accuracy: 0.9986\n",
      "Epoch 14/200\n",
      "288/288 [==============================] - 0s 1ms/step - loss: 0.2134 - accuracy: 0.9986\n",
      "Epoch 15/200\n",
      "288/288 [==============================] - 0s 1ms/step - loss: 0.2131 - accuracy: 0.9986\n",
      "Epoch 16/200\n",
      "288/288 [==============================] - 0s 1ms/step - loss: 0.2129 - accuracy: 0.9986\n",
      "Epoch 17/200\n",
      "288/288 [==============================] - 0s 1ms/step - loss: 0.2126 - accuracy: 0.9986\n",
      "Epoch 18/200\n",
      "288/288 [==============================] - 0s 1ms/step - loss: 0.2123 - accuracy: 0.9986\n",
      "Epoch 19/200\n",
      "288/288 [==============================] - 0s 1ms/step - loss: 0.2121 - accuracy: 0.9986\n",
      "Epoch 20/200\n",
      "288/288 [==============================] - 0s 1ms/step - loss: 0.2118 - accuracy: 0.9986\n",
      "Epoch 21/200\n",
      "288/288 [==============================] - 0s 1ms/step - loss: 0.2115 - accuracy: 0.9986\n",
      "Epoch 22/200\n",
      "288/288 [==============================] - 0s 1ms/step - loss: 0.2113 - accuracy: 0.9986\n",
      "Epoch 23/200\n",
      "288/288 [==============================] - 0s 1ms/step - loss: 0.2110 - accuracy: 0.9986\n",
      "Epoch 24/200\n",
      "288/288 [==============================] - 0s 1ms/step - loss: 0.2108 - accuracy: 0.9986\n",
      "Epoch 25/200\n",
      "288/288 [==============================] - 0s 1ms/step - loss: 0.2105 - accuracy: 0.9986\n",
      "Epoch 26/200\n",
      "288/288 [==============================] - 0s 1ms/step - loss: 0.2102 - accuracy: 0.9986\n",
      "Epoch 27/200\n",
      "288/288 [==============================] - 0s 1ms/step - loss: 0.2100 - accuracy: 0.9986\n",
      "Epoch 28/200\n",
      "288/288 [==============================] - 0s 1ms/step - loss: 0.2097 - accuracy: 0.9986\n",
      "Epoch 29/200\n",
      "288/288 [==============================] - 0s 1ms/step - loss: 0.2094 - accuracy: 0.9986\n",
      "Epoch 30/200\n",
      "288/288 [==============================] - 0s 1ms/step - loss: 0.2092 - accuracy: 0.9986\n",
      "Epoch 31/200\n",
      "288/288 [==============================] - 0s 1ms/step - loss: 0.2089 - accuracy: 0.9986\n",
      "Epoch 32/200\n",
      "288/288 [==============================] - 0s 1ms/step - loss: 0.2087 - accuracy: 0.9986\n",
      "Epoch 33/200\n",
      "288/288 [==============================] - 0s 1ms/step - loss: 0.2084 - accuracy: 0.9986\n",
      "Epoch 34/200\n",
      "288/288 [==============================] - 0s 1ms/step - loss: 0.2082 - accuracy: 0.9986\n",
      "Epoch 35/200\n",
      "288/288 [==============================] - 0s 1ms/step - loss: 0.2079 - accuracy: 0.9986\n",
      "Epoch 36/200\n",
      "288/288 [==============================] - 0s 1ms/step - loss: 0.2077 - accuracy: 0.9986\n",
      "Epoch 37/200\n",
      "288/288 [==============================] - 0s 1ms/step - loss: 0.2074 - accuracy: 0.9986\n",
      "Epoch 38/200\n",
      "288/288 [==============================] - 0s 1ms/step - loss: 0.2072 - accuracy: 0.9986: 0s - loss: 0.2070 - accuracy: 0.99\n",
      "Epoch 39/200\n",
      "288/288 [==============================] - 0s 1ms/step - loss: 0.2069 - accuracy: 0.9986\n",
      "Epoch 40/200\n",
      "288/288 [==============================] - 0s 1ms/step - loss: 0.2067 - accuracy: 0.9986\n",
      "Epoch 41/200\n",
      "288/288 [==============================] - 0s 1ms/step - loss: 0.2064 - accuracy: 0.9986\n",
      "Epoch 42/200\n",
      "288/288 [==============================] - 0s 1ms/step - loss: 0.2062 - accuracy: 0.9986\n",
      "Epoch 43/200\n",
      "288/288 [==============================] - 0s 1ms/step - loss: 0.2059 - accuracy: 0.9986\n",
      "Epoch 44/200\n",
      "288/288 [==============================] - 0s 1ms/step - loss: 0.2056 - accuracy: 0.9986\n",
      "Epoch 45/200\n",
      "288/288 [==============================] - 0s 1ms/step - loss: 0.2054 - accuracy: 0.9986\n",
      "Epoch 46/200\n",
      "288/288 [==============================] - 0s 1ms/step - loss: 0.2052 - accuracy: 0.9986\n",
      "Epoch 47/200\n",
      "288/288 [==============================] - 0s 1ms/step - loss: 0.2049 - accuracy: 0.9986\n",
      "Epoch 48/200\n",
      "288/288 [==============================] - 0s 1ms/step - loss: 0.2047 - accuracy: 0.9986\n",
      "Epoch 49/200\n",
      "288/288 [==============================] - 0s 1ms/step - loss: 0.2044 - accuracy: 0.9986\n",
      "Epoch 50/200\n",
      "288/288 [==============================] - 0s 1ms/step - loss: 0.2042 - accuracy: 0.9986\n",
      "Epoch 51/200\n",
      "288/288 [==============================] - 0s 1ms/step - loss: 0.2039 - accuracy: 0.9986\n",
      "Epoch 52/200\n",
      "288/288 [==============================] - 0s 1ms/step - loss: 0.2037 - accuracy: 0.9986\n",
      "Epoch 53/200\n",
      "288/288 [==============================] - 0s 1ms/step - loss: 0.2034 - accuracy: 0.9986\n",
      "Epoch 54/200\n",
      "288/288 [==============================] - 0s 1ms/step - loss: 0.2032 - accuracy: 0.9986\n",
      "Epoch 55/200\n",
      "288/288 [==============================] - 0s 1ms/step - loss: 0.2029 - accuracy: 0.9986\n",
      "Epoch 56/200\n",
      "288/288 [==============================] - 0s 1ms/step - loss: 0.2027 - accuracy: 0.9986\n",
      "Epoch 57/200\n",
      "288/288 [==============================] - 0s 1ms/step - loss: 0.2025 - accuracy: 0.9986\n",
      "Epoch 58/200\n",
      "288/288 [==============================] - 0s 1ms/step - loss: 0.2022 - accuracy: 0.9986\n",
      "Epoch 59/200\n",
      "288/288 [==============================] - 0s 1ms/step - loss: 0.2020 - accuracy: 0.9986\n",
      "Epoch 60/200\n",
      "288/288 [==============================] - 0s 1ms/step - loss: 0.2017 - accuracy: 0.9986\n",
      "Epoch 61/200\n",
      "288/288 [==============================] - 0s 1ms/step - loss: 0.2015 - accuracy: 0.9986\n",
      "Epoch 62/200\n",
      "288/288 [==============================] - 0s 1ms/step - loss: 0.2013 - accuracy: 0.9986\n",
      "Epoch 63/200\n",
      "288/288 [==============================] - 0s 1ms/step - loss: 0.2010 - accuracy: 0.9986\n",
      "Epoch 64/200\n",
      "288/288 [==============================] - 0s 1ms/step - loss: 0.2008 - accuracy: 0.9986\n",
      "Epoch 65/200\n",
      "288/288 [==============================] - 0s 1ms/step - loss: 0.2005 - accuracy: 0.9986\n",
      "Epoch 66/200\n",
      "288/288 [==============================] - 0s 1ms/step - loss: 0.2003 - accuracy: 0.9986\n",
      "Epoch 67/200\n",
      "288/288 [==============================] - 0s 1ms/step - loss: 0.2001 - accuracy: 0.9986\n",
      "Epoch 68/200\n",
      "288/288 [==============================] - 0s 1ms/step - loss: 0.1998 - accuracy: 0.9986\n",
      "Epoch 69/200\n",
      "288/288 [==============================] - 0s 1ms/step - loss: 0.1996 - accuracy: 0.9986\n",
      "Epoch 70/200\n",
      "288/288 [==============================] - 0s 1ms/step - loss: 0.1993 - accuracy: 0.9986\n",
      "Epoch 71/200\n",
      "288/288 [==============================] - 0s 1ms/step - loss: 0.1991 - accuracy: 0.9986\n",
      "Epoch 72/200\n",
      "288/288 [==============================] - 0s 2ms/step - loss: 0.1989 - accuracy: 0.9986\n",
      "Epoch 73/200\n",
      "288/288 [==============================] - 0s 1ms/step - loss: 0.1986 - accuracy: 0.9986\n",
      "Epoch 74/200\n",
      "288/288 [==============================] - 0s 1ms/step - loss: 0.1984 - accuracy: 0.9986\n",
      "Epoch 75/200\n",
      "288/288 [==============================] - 0s 1ms/step - loss: 0.1982 - accuracy: 0.9986\n",
      "Epoch 76/200\n",
      "288/288 [==============================] - 0s 1ms/step - loss: 0.1979 - accuracy: 0.9986\n",
      "Epoch 77/200\n",
      "288/288 [==============================] - 0s 1ms/step - loss: 0.1977 - accuracy: 0.9986\n",
      "Epoch 78/200\n",
      "288/288 [==============================] - 0s 1ms/step - loss: 0.1975 - accuracy: 0.9986\n",
      "Epoch 79/200\n",
      "288/288 [==============================] - 0s 1ms/step - loss: 0.1972 - accuracy: 0.9986\n",
      "Epoch 80/200\n",
      "288/288 [==============================] - 0s 1ms/step - loss: 0.1970 - accuracy: 0.9986\n",
      "Epoch 81/200\n"
     ]
    },
    {
     "name": "stdout",
     "output_type": "stream",
     "text": [
      "288/288 [==============================] - 0s 970us/step - loss: 0.1968 - accuracy: 0.9986\n",
      "Epoch 82/200\n",
      "288/288 [==============================] - 0s 958us/step - loss: 0.1965 - accuracy: 0.9986\n",
      "Epoch 83/200\n",
      "288/288 [==============================] - 0s 913us/step - loss: 0.1963 - accuracy: 0.9986\n",
      "Epoch 84/200\n",
      "288/288 [==============================] - 0s 938us/step - loss: 0.1961 - accuracy: 0.9986\n",
      "Epoch 85/200\n",
      "288/288 [==============================] - 0s 927us/step - loss: 0.1959 - accuracy: 0.9986\n",
      "Epoch 86/200\n",
      "288/288 [==============================] - 0s 921us/step - loss: 0.1956 - accuracy: 0.9986\n",
      "Epoch 87/200\n",
      "288/288 [==============================] - 0s 965us/step - loss: 0.1954 - accuracy: 0.9986\n",
      "Epoch 88/200\n",
      "288/288 [==============================] - 0s 949us/step - loss: 0.1952 - accuracy: 0.9986\n",
      "Epoch 89/200\n",
      "288/288 [==============================] - 0s 977us/step - loss: 0.1949 - accuracy: 0.9986\n",
      "Epoch 90/200\n",
      "288/288 [==============================] - 0s 1ms/step - loss: 0.1947 - accuracy: 0.9986\n",
      "Epoch 91/200\n",
      "288/288 [==============================] - 0s 1ms/step - loss: 0.1945 - accuracy: 0.9986\n",
      "Epoch 92/200\n",
      "288/288 [==============================] - 0s 982us/step - loss: 0.1943 - accuracy: 0.9986\n",
      "Epoch 93/200\n",
      "288/288 [==============================] - 0s 1ms/step - loss: 0.1940 - accuracy: 0.9986\n",
      "Epoch 94/200\n",
      "288/288 [==============================] - 0s 1ms/step - loss: 0.1938 - accuracy: 0.9986\n",
      "Epoch 95/200\n",
      "288/288 [==============================] - 0s 1ms/step - loss: 0.1936 - accuracy: 0.9986\n",
      "Epoch 96/200\n",
      "288/288 [==============================] - 0s 1ms/step - loss: 0.1934 - accuracy: 0.9986\n",
      "Epoch 97/200\n",
      "288/288 [==============================] - 0s 1ms/step - loss: 0.1931 - accuracy: 0.9986\n",
      "Epoch 98/200\n",
      "288/288 [==============================] - 0s 1ms/step - loss: 0.1929 - accuracy: 0.9986: 0s - loss: 0.1935 - accuracy: \n",
      "Epoch 99/200\n",
      "288/288 [==============================] - 0s 1ms/step - loss: 0.1927 - accuracy: 0.9986\n",
      "Epoch 100/200\n",
      "288/288 [==============================] - 0s 1ms/step - loss: 0.1925 - accuracy: 0.9986\n",
      "Epoch 101/200\n",
      "288/288 [==============================] - 0s 1ms/step - loss: 0.1922 - accuracy: 0.9986\n",
      "Epoch 102/200\n",
      "288/288 [==============================] - 0s 1ms/step - loss: 0.1920 - accuracy: 0.9986\n",
      "Epoch 103/200\n",
      "288/288 [==============================] - 0s 1ms/step - loss: 0.1918 - accuracy: 0.9986\n",
      "Epoch 104/200\n",
      "288/288 [==============================] - 0s 1ms/step - loss: 0.1916 - accuracy: 0.9986\n",
      "Epoch 105/200\n",
      "288/288 [==============================] - 0s 1ms/step - loss: 0.1913 - accuracy: 0.9986\n",
      "Epoch 106/200\n",
      "288/288 [==============================] - 0s 1ms/step - loss: 0.1911 - accuracy: 0.9986\n",
      "Epoch 107/200\n",
      "288/288 [==============================] - 0s 935us/step - loss: 0.1909 - accuracy: 0.9986\n",
      "Epoch 108/200\n",
      "288/288 [==============================] - 0s 958us/step - loss: 0.1907 - accuracy: 0.9986\n",
      "Epoch 109/200\n",
      "288/288 [==============================] - 0s 1ms/step - loss: 0.1905 - accuracy: 0.9986\n",
      "Epoch 110/200\n",
      "288/288 [==============================] - 0s 989us/step - loss: 0.1902 - accuracy: 0.9986\n",
      "Epoch 111/200\n",
      "288/288 [==============================] - 0s 947us/step - loss: 0.1900 - accuracy: 0.9986\n",
      "Epoch 112/200\n",
      "288/288 [==============================] - 0s 991us/step - loss: 0.1898 - accuracy: 0.9986\n",
      "Epoch 113/200\n",
      "288/288 [==============================] - 0s 1ms/step - loss: 0.1896 - accuracy: 0.9986\n",
      "Epoch 114/200\n",
      "288/288 [==============================] - 0s 1ms/step - loss: 0.1894 - accuracy: 0.9986\n",
      "Epoch 115/200\n",
      "288/288 [==============================] - 0s 1ms/step - loss: 0.1891 - accuracy: 0.9986\n",
      "Epoch 116/200\n",
      "288/288 [==============================] - 0s 1ms/step - loss: 0.1889 - accuracy: 0.9986\n",
      "Epoch 117/200\n",
      "288/288 [==============================] - 0s 1ms/step - loss: 0.1887 - accuracy: 0.9986\n",
      "Epoch 118/200\n",
      "288/288 [==============================] - 0s 1ms/step - loss: 0.1885 - accuracy: 0.9986\n",
      "Epoch 119/200\n",
      "288/288 [==============================] - 0s 966us/step - loss: 0.1883 - accuracy: 0.9986\n",
      "Epoch 120/200\n",
      "288/288 [==============================] - 0s 976us/step - loss: 0.1881 - accuracy: 0.9986\n",
      "Epoch 121/200\n",
      "288/288 [==============================] - 0s 959us/step - loss: 0.1878 - accuracy: 0.9986\n",
      "Epoch 122/200\n",
      "288/288 [==============================] - 0s 1ms/step - loss: 0.1876 - accuracy: 0.9986\n",
      "Epoch 123/200\n",
      "288/288 [==============================] - 0s 1ms/step - loss: 0.1874 - accuracy: 0.9986\n",
      "Epoch 124/200\n",
      "288/288 [==============================] - 0s 1ms/step - loss: 0.1872 - accuracy: 0.9986\n",
      "Epoch 125/200\n",
      "288/288 [==============================] - 0s 1ms/step - loss: 0.1870 - accuracy: 0.9986\n",
      "Epoch 126/200\n",
      "288/288 [==============================] - 0s 1ms/step - loss: 0.1868 - accuracy: 0.9986\n",
      "Epoch 127/200\n",
      "288/288 [==============================] - 0s 1ms/step - loss: 0.1865 - accuracy: 0.9986\n",
      "Epoch 128/200\n",
      "288/288 [==============================] - 0s 1ms/step - loss: 0.1863 - accuracy: 0.9986\n",
      "Epoch 129/200\n",
      "288/288 [==============================] - 0s 1ms/step - loss: 0.1861 - accuracy: 0.9986\n",
      "Epoch 130/200\n",
      "288/288 [==============================] - 0s 1ms/step - loss: 0.1859 - accuracy: 0.9986\n",
      "Epoch 131/200\n",
      "288/288 [==============================] - 0s 1ms/step - loss: 0.1857 - accuracy: 0.9986\n",
      "Epoch 132/200\n",
      "288/288 [==============================] - 0s 1ms/step - loss: 0.1855 - accuracy: 0.9986\n",
      "Epoch 133/200\n",
      "288/288 [==============================] - 0s 1ms/step - loss: 0.1853 - accuracy: 0.9986\n",
      "Epoch 134/200\n",
      "288/288 [==============================] - 0s 1ms/step - loss: 0.1851 - accuracy: 0.9986\n",
      "Epoch 135/200\n",
      "288/288 [==============================] - 0s 1ms/step - loss: 0.1848 - accuracy: 0.9986\n",
      "Epoch 136/200\n",
      "288/288 [==============================] - 0s 1ms/step - loss: 0.1846 - accuracy: 0.9986\n",
      "Epoch 137/200\n",
      "288/288 [==============================] - 0s 1ms/step - loss: 0.1844 - accuracy: 0.9986\n",
      "Epoch 138/200\n",
      "288/288 [==============================] - 0s 1ms/step - loss: 0.1842 - accuracy: 0.9986\n",
      "Epoch 139/200\n",
      "288/288 [==============================] - 0s 1ms/step - loss: 0.1840 - accuracy: 0.9986\n",
      "Epoch 140/200\n",
      "288/288 [==============================] - 0s 1ms/step - loss: 0.1838 - accuracy: 0.9986\n",
      "Epoch 141/200\n",
      "288/288 [==============================] - 0s 1ms/step - loss: 0.1836 - accuracy: 0.9986\n",
      "Epoch 142/200\n",
      "288/288 [==============================] - 0s 1ms/step - loss: 0.1834 - accuracy: 0.9986\n",
      "Epoch 143/200\n",
      "288/288 [==============================] - 0s 1ms/step - loss: 0.1832 - accuracy: 0.9986\n",
      "Epoch 144/200\n",
      "288/288 [==============================] - 0s 1ms/step - loss: 0.1829 - accuracy: 0.9986\n",
      "Epoch 145/200\n",
      "288/288 [==============================] - 0s 1ms/step - loss: 0.1827 - accuracy: 0.9986\n",
      "Epoch 146/200\n",
      "288/288 [==============================] - 0s 1ms/step - loss: 0.1825 - accuracy: 0.9986\n",
      "Epoch 147/200\n",
      "288/288 [==============================] - 0s 1ms/step - loss: 0.1823 - accuracy: 0.9986\n",
      "Epoch 148/200\n",
      "288/288 [==============================] - 0s 1ms/step - loss: 0.1821 - accuracy: 0.9986\n",
      "Epoch 149/200\n",
      "288/288 [==============================] - 0s 1ms/step - loss: 0.1819 - accuracy: 0.9986\n",
      "Epoch 150/200\n",
      "288/288 [==============================] - 0s 1ms/step - loss: 0.1817 - accuracy: 0.9986\n",
      "Epoch 151/200\n",
      "288/288 [==============================] - 0s 1ms/step - loss: 0.1815 - accuracy: 0.9986\n",
      "Epoch 152/200\n",
      "288/288 [==============================] - 0s 1ms/step - loss: 0.1813 - accuracy: 0.9986\n",
      "Epoch 153/200\n",
      "288/288 [==============================] - 0s 1ms/step - loss: 0.1811 - accuracy: 0.9986\n",
      "Epoch 154/200\n",
      "288/288 [==============================] - 0s 1ms/step - loss: 0.1809 - accuracy: 0.9986\n",
      "Epoch 155/200\n",
      "288/288 [==============================] - 0s 1ms/step - loss: 0.1807 - accuracy: 0.9986\n",
      "Epoch 156/200\n",
      "288/288 [==============================] - 0s 1ms/step - loss: 0.1804 - accuracy: 0.9986\n",
      "Epoch 157/200\n",
      "288/288 [==============================] - 0s 1ms/step - loss: 0.1802 - accuracy: 0.9986\n",
      "Epoch 158/200\n",
      "288/288 [==============================] - 0s 1ms/step - loss: 0.1800 - accuracy: 0.9986\n",
      "Epoch 159/200\n",
      "288/288 [==============================] - 0s 1ms/step - loss: 0.1798 - accuracy: 0.9986\n",
      "Epoch 160/200\n",
      "288/288 [==============================] - 0s 1ms/step - loss: 0.1796 - accuracy: 0.9986\n",
      "Epoch 161/200\n",
      "288/288 [==============================] - 0s 954us/step - loss: 0.1794 - accuracy: 0.9986\n",
      "Epoch 162/200\n",
      "288/288 [==============================] - 0s 958us/step - loss: 0.1792 - accuracy: 0.9986\n",
      "Epoch 163/200\n",
      "288/288 [==============================] - 0s 1ms/step - loss: 0.1790 - accuracy: 0.9986\n",
      "Epoch 164/200\n",
      "288/288 [==============================] - 0s 999us/step - loss: 0.1788 - accuracy: 0.9986\n",
      "Epoch 165/200\n",
      "288/288 [==============================] - 0s 1ms/step - loss: 0.1786 - accuracy: 0.9986\n",
      "Epoch 166/200\n",
      "288/288 [==============================] - 0s 972us/step - loss: 0.1784 - accuracy: 0.9986\n",
      "Epoch 167/200\n",
      "288/288 [==============================] - 0s 991us/step - loss: 0.1782 - accuracy: 0.9986\n",
      "Epoch 168/200\n",
      "288/288 [==============================] - 0s 999us/step - loss: 0.1780 - accuracy: 0.9986\n",
      "Epoch 169/200\n",
      "288/288 [==============================] - 0s 1ms/step - loss: 0.1778 - accuracy: 0.9986\n",
      "Epoch 170/200\n",
      "288/288 [==============================] - 0s 977us/step - loss: 0.1776 - accuracy: 0.9986\n",
      "Epoch 171/200\n",
      "288/288 [==============================] - 0s 1ms/step - loss: 0.1774 - accuracy: 0.9986\n",
      "Epoch 172/200\n",
      "288/288 [==============================] - 0s 1ms/step - loss: 0.1772 - accuracy: 0.9986\n",
      "Epoch 173/200\n",
      "288/288 [==============================] - 0s 944us/step - loss: 0.1770 - accuracy: 0.9986\n",
      "Epoch 174/200\n",
      "288/288 [==============================] - 0s 933us/step - loss: 0.1768 - accuracy: 0.9986\n",
      "Epoch 175/200\n",
      "288/288 [==============================] - 0s 931us/step - loss: 0.1766 - accuracy: 0.9986\n",
      "Epoch 176/200\n",
      "288/288 [==============================] - 0s 953us/step - loss: 0.1764 - accuracy: 0.9986\n",
      "Epoch 177/200\n",
      "288/288 [==============================] - 0s 1ms/step - loss: 0.1762 - accuracy: 0.9986\n",
      "Epoch 178/200\n",
      "288/288 [==============================] - 0s 1ms/step - loss: 0.1760 - accuracy: 0.9986\n",
      "Epoch 179/200\n",
      "288/288 [==============================] - 0s 1ms/step - loss: 0.1758 - accuracy: 0.9986\n",
      "Epoch 180/200\n",
      "288/288 [==============================] - 0s 973us/step - loss: 0.1756 - accuracy: 0.9986\n",
      "Epoch 181/200\n",
      "288/288 [==============================] - 0s 980us/step - loss: 0.1754 - accuracy: 0.9986\n",
      "Epoch 182/200\n",
      "288/288 [==============================] - 0s 975us/step - loss: 0.1752 - accuracy: 0.9986\n",
      "Epoch 183/200\n",
      "288/288 [==============================] - 0s 973us/step - loss: 0.1750 - accuracy: 0.9986\n",
      "Epoch 184/200\n",
      "288/288 [==============================] - 0s 1ms/step - loss: 0.1748 - accuracy: 0.9986\n",
      "Epoch 185/200\n",
      "288/288 [==============================] - 0s 902us/step - loss: 0.1746 - accuracy: 0.9986\n",
      "Epoch 186/200\n",
      "288/288 [==============================] - 0s 1ms/step - loss: 0.1744 - accuracy: 0.9986\n",
      "Epoch 187/200\n",
      "288/288 [==============================] - 0s 1ms/step - loss: 0.1742 - accuracy: 0.9986\n",
      "Epoch 188/200\n",
      "288/288 [==============================] - 0s 1ms/step - loss: 0.1740 - accuracy: 0.9986\n",
      "Epoch 189/200\n",
      "288/288 [==============================] - 0s 1ms/step - loss: 0.1738 - accuracy: 0.9986\n",
      "Epoch 190/200\n",
      "288/288 [==============================] - 0s 1ms/step - loss: 0.1736 - accuracy: 0.9986\n",
      "Epoch 191/200\n",
      "288/288 [==============================] - 0s 995us/step - loss: 0.1734 - accuracy: 0.9986\n",
      "Epoch 192/200\n",
      "288/288 [==============================] - 0s 1ms/step - loss: 0.1732 - accuracy: 0.9986\n",
      "Epoch 193/200\n",
      "288/288 [==============================] - 0s 1ms/step - loss: 0.1730 - accuracy: 0.9986\n",
      "Epoch 194/200\n",
      "288/288 [==============================] - 0s 1ms/step - loss: 0.1728 - accuracy: 0.9986\n",
      "Epoch 195/200\n",
      "288/288 [==============================] - 0s 1ms/step - loss: 0.1726 - accuracy: 0.9986\n",
      "Epoch 196/200\n",
      "288/288 [==============================] - 0s 1ms/step - loss: 0.1724 - accuracy: 0.9986\n",
      "Epoch 197/200\n",
      "288/288 [==============================] - 0s 1ms/step - loss: 0.1722 - accuracy: 0.9986\n",
      "Epoch 198/200\n",
      "288/288 [==============================] - 0s 1ms/step - loss: 0.1720 - accuracy: 0.9986\n",
      "Epoch 199/200\n",
      "288/288 [==============================] - 0s 1ms/step - loss: 0.1719 - accuracy: 0.9986\n",
      "Epoch 200/200\n",
      "288/288 [==============================] - 0s 1ms/step - loss: 0.1717 - accuracy: 0.9986\n"
     ]
    },
    {
     "data": {
      "text/plain": [
       "<tensorflow.python.keras.callbacks.History at 0x7fa99819cb00>"
      ]
     },
     "execution_count": 55,
     "metadata": {},
     "output_type": "execute_result"
    }
   ],
   "source": [
    "model.fit(train_x, train_y2, epochs=200, batch_size=5)"
   ]
  },
  {
   "cell_type": "code",
   "execution_count": 56,
   "metadata": {},
   "outputs": [],
   "source": [
    "y_hat = model.predict(test_x)"
   ]
  },
  {
   "cell_type": "code",
   "execution_count": 57,
   "metadata": {},
   "outputs": [
    {
     "data": {
      "text/plain": [
       "array([[4.13314812e-03, 2.38624215e-02, 3.56294885e-02, ...,\n",
       "        3.69930058e-03, 9.00788009e-01, 1.90361403e-02],\n",
       "       [1.21553756e-04, 2.67375424e-03, 1.28211017e-04, ...,\n",
       "        8.22108879e-04, 1.49995249e-04, 1.64841273e-04],\n",
       "       [1.84071643e-04, 8.01856723e-03, 2.56361030e-02, ...,\n",
       "        9.13866388e-04, 1.70533941e-03, 1.16740353e-03],\n",
       "       ...,\n",
       "       [9.58786786e-01, 1.77397204e-04, 6.63055340e-04, ...,\n",
       "        1.08884939e-03, 2.21349057e-02, 5.13525167e-03],\n",
       "       [9.24167864e-04, 1.03215885e-03, 4.41006012e-03, ...,\n",
       "        5.92186989e-04, 9.89929974e-01, 6.29164511e-04],\n",
       "       [9.91101265e-01, 6.44308893e-05, 4.40113770e-04, ...,\n",
       "        4.36382979e-05, 8.94484459e-04, 4.81645082e-04]], dtype=float32)"
      ]
     },
     "execution_count": 57,
     "metadata": {},
     "output_type": "execute_result"
    }
   ],
   "source": [
    "y_hat"
   ]
  },
  {
   "cell_type": "code",
   "execution_count": 58,
   "metadata": {},
   "outputs": [
    {
     "data": {
      "text/plain": [
       "array([[8, 4, 3, 5, 2, 2, 0, 4, 1, 4, 6, 5, 5, 6, 2, 4, 0, 9, 0, 5, 2, 3,\n",
       "        2, 2, 6, 1, 3, 9, 2, 0, 3, 4, 6, 3, 6, 7, 3, 8, 2, 5, 9, 1, 9, 7,\n",
       "        2, 5, 0, 8, 9, 8, 1, 4, 6, 0, 6, 7, 3, 7, 8, 3, 0, 4, 9, 7, 7, 9,\n",
       "        9, 8, 4, 2, 2, 4, 6, 9, 4, 6, 0, 5, 0, 1, 5, 5, 7, 2, 4, 1, 4, 2,\n",
       "        0, 6, 0, 3, 8, 7, 4, 1, 7, 8, 8, 6, 4, 7, 8, 5, 6, 5, 1, 5, 7, 5,\n",
       "        8, 9, 7, 2, 5, 1, 4, 3, 2, 5, 3, 5, 9, 9, 7, 9, 8, 6, 4, 5, 0, 7,\n",
       "        4, 6, 0, 9, 3, 1, 2, 9, 4, 0, 3, 0, 8, 7, 7, 5, 0, 1, 5, 9, 6, 6,\n",
       "        7, 5, 6, 4, 9, 8, 0, 5, 4, 8, 7, 6, 1, 6, 0, 6, 0, 1, 5, 3, 2, 6,\n",
       "        7, 6, 5, 3, 7, 5, 7, 2, 7, 7, 9, 5, 8, 2, 9, 5, 3, 4, 1, 1, 1, 3,\n",
       "        0, 5, 2, 8, 1, 6, 7, 1, 1, 9, 7, 1, 6, 7, 0, 6, 2, 9, 9, 6, 5, 7,\n",
       "        1, 2, 6, 8, 4, 1, 0, 2, 0, 9, 5, 4, 2, 1, 9, 6, 7, 6, 4, 3, 2, 5,\n",
       "        0, 0, 6, 2, 4, 6, 1, 9, 0, 9, 1, 1, 8, 4, 6, 4, 6, 3, 3, 5, 4, 9,\n",
       "        9, 5, 2, 0, 8, 5, 4, 4, 6, 9, 1, 1, 4, 7, 9, 5, 2, 5, 6, 9, 3, 3,\n",
       "        9, 5, 1, 1, 3, 2, 9, 7, 9, 7, 2, 1, 3, 4, 8, 3, 0, 3, 8, 0, 3, 9,\n",
       "        1, 8, 9, 3, 8, 8, 5, 5, 0, 4, 2, 2, 4, 5, 6, 4, 6, 1, 8, 9, 7, 8,\n",
       "        3, 3, 9, 4, 8, 8, 6, 9, 8, 6, 7, 7, 4, 9, 7, 5, 0, 4, 8, 8, 6, 0,\n",
       "        9, 4, 7, 1, 4, 0, 8, 0]])"
      ]
     },
     "execution_count": 58,
     "metadata": {},
     "output_type": "execute_result"
    }
   ],
   "source": [
    "test_y"
   ]
  },
  {
   "cell_type": "code",
   "execution_count": 59,
   "metadata": {},
   "outputs": [],
   "source": [
    "y_hat = [np.argmax(y) for y in y_hat]"
   ]
  },
  {
   "cell_type": "code",
   "execution_count": 60,
   "metadata": {},
   "outputs": [
    {
     "data": {
      "text/plain": [
       "[8,\n",
       " 4,\n",
       " 3,\n",
       " 5,\n",
       " 2,\n",
       " 2,\n",
       " 0,\n",
       " 4,\n",
       " 1,\n",
       " 4,\n",
       " 6,\n",
       " 5,\n",
       " 5,\n",
       " 6,\n",
       " 2,\n",
       " 4,\n",
       " 0,\n",
       " 9,\n",
       " 0,\n",
       " 5,\n",
       " 2,\n",
       " 3,\n",
       " 2,\n",
       " 2,\n",
       " 6,\n",
       " 1,\n",
       " 3,\n",
       " 9,\n",
       " 2,\n",
       " 0,\n",
       " 3,\n",
       " 4,\n",
       " 6,\n",
       " 3,\n",
       " 6,\n",
       " 7,\n",
       " 3,\n",
       " 8,\n",
       " 2,\n",
       " 5,\n",
       " 9,\n",
       " 1,\n",
       " 3,\n",
       " 7,\n",
       " 2,\n",
       " 5,\n",
       " 0,\n",
       " 8,\n",
       " 9,\n",
       " 8,\n",
       " 1,\n",
       " 4,\n",
       " 6,\n",
       " 0,\n",
       " 6,\n",
       " 4,\n",
       " 3,\n",
       " 7,\n",
       " 8,\n",
       " 3,\n",
       " 0,\n",
       " 4,\n",
       " 9,\n",
       " 7,\n",
       " 7,\n",
       " 9,\n",
       " 9,\n",
       " 8,\n",
       " 4,\n",
       " 2,\n",
       " 2,\n",
       " 4,\n",
       " 6,\n",
       " 3,\n",
       " 4,\n",
       " 6,\n",
       " 0,\n",
       " 5,\n",
       " 0,\n",
       " 1,\n",
       " 5,\n",
       " 5,\n",
       " 7,\n",
       " 2,\n",
       " 4,\n",
       " 1,\n",
       " 4,\n",
       " 2,\n",
       " 0,\n",
       " 6,\n",
       " 0,\n",
       " 3,\n",
       " 8,\n",
       " 7,\n",
       " 4,\n",
       " 1,\n",
       " 7,\n",
       " 8,\n",
       " 8,\n",
       " 6,\n",
       " 4,\n",
       " 7,\n",
       " 8,\n",
       " 5,\n",
       " 6,\n",
       " 5,\n",
       " 1,\n",
       " 5,\n",
       " 7,\n",
       " 5,\n",
       " 8,\n",
       " 9,\n",
       " 7,\n",
       " 2,\n",
       " 5,\n",
       " 1,\n",
       " 4,\n",
       " 3,\n",
       " 2,\n",
       " 5,\n",
       " 3,\n",
       " 5,\n",
       " 9,\n",
       " 9,\n",
       " 7,\n",
       " 9,\n",
       " 8,\n",
       " 6,\n",
       " 4,\n",
       " 5,\n",
       " 0,\n",
       " 7,\n",
       " 4,\n",
       " 6,\n",
       " 0,\n",
       " 9,\n",
       " 3,\n",
       " 1,\n",
       " 2,\n",
       " 9,\n",
       " 4,\n",
       " 5,\n",
       " 3,\n",
       " 0,\n",
       " 8,\n",
       " 7,\n",
       " 7,\n",
       " 5,\n",
       " 0,\n",
       " 1,\n",
       " 5,\n",
       " 9,\n",
       " 6,\n",
       " 6,\n",
       " 7,\n",
       " 5,\n",
       " 6,\n",
       " 4,\n",
       " 9,\n",
       " 8,\n",
       " 0,\n",
       " 5,\n",
       " 4,\n",
       " 8,\n",
       " 7,\n",
       " 6,\n",
       " 1,\n",
       " 6,\n",
       " 0,\n",
       " 6,\n",
       " 0,\n",
       " 1,\n",
       " 5,\n",
       " 3,\n",
       " 2,\n",
       " 6,\n",
       " 7,\n",
       " 6,\n",
       " 5,\n",
       " 3,\n",
       " 7,\n",
       " 5,\n",
       " 7,\n",
       " 2,\n",
       " 7,\n",
       " 7,\n",
       " 9,\n",
       " 5,\n",
       " 8,\n",
       " 2,\n",
       " 9,\n",
       " 5,\n",
       " 3,\n",
       " 4,\n",
       " 1,\n",
       " 1,\n",
       " 1,\n",
       " 3,\n",
       " 0,\n",
       " 5,\n",
       " 2,\n",
       " 8,\n",
       " 1,\n",
       " 6,\n",
       " 7,\n",
       " 1,\n",
       " 1,\n",
       " 9,\n",
       " 7,\n",
       " 1,\n",
       " 6,\n",
       " 7,\n",
       " 0,\n",
       " 6,\n",
       " 2,\n",
       " 9,\n",
       " 9,\n",
       " 6,\n",
       " 5,\n",
       " 7,\n",
       " 1,\n",
       " 2,\n",
       " 6,\n",
       " 8,\n",
       " 4,\n",
       " 1,\n",
       " 0,\n",
       " 2,\n",
       " 0,\n",
       " 9,\n",
       " 5,\n",
       " 4,\n",
       " 2,\n",
       " 1,\n",
       " 9,\n",
       " 6,\n",
       " 7,\n",
       " 6,\n",
       " 4,\n",
       " 3,\n",
       " 2,\n",
       " 5,\n",
       " 0,\n",
       " 0,\n",
       " 6,\n",
       " 2,\n",
       " 4,\n",
       " 6,\n",
       " 1,\n",
       " 9,\n",
       " 0,\n",
       " 9,\n",
       " 1,\n",
       " 1,\n",
       " 8,\n",
       " 4,\n",
       " 6,\n",
       " 4,\n",
       " 6,\n",
       " 3,\n",
       " 3,\n",
       " 5,\n",
       " 4,\n",
       " 9,\n",
       " 9,\n",
       " 5,\n",
       " 2,\n",
       " 0,\n",
       " 8,\n",
       " 5,\n",
       " 4,\n",
       " 4,\n",
       " 6,\n",
       " 9,\n",
       " 1,\n",
       " 1,\n",
       " 4,\n",
       " 7,\n",
       " 9,\n",
       " 5,\n",
       " 2,\n",
       " 5,\n",
       " 6,\n",
       " 9,\n",
       " 8,\n",
       " 3,\n",
       " 9,\n",
       " 5,\n",
       " 1,\n",
       " 1,\n",
       " 3,\n",
       " 2,\n",
       " 9,\n",
       " 7,\n",
       " 9,\n",
       " 7,\n",
       " 2,\n",
       " 1,\n",
       " 3,\n",
       " 4,\n",
       " 8,\n",
       " 3,\n",
       " 0,\n",
       " 3,\n",
       " 8,\n",
       " 0,\n",
       " 8,\n",
       " 8,\n",
       " 1,\n",
       " 8,\n",
       " 9,\n",
       " 8,\n",
       " 8,\n",
       " 8,\n",
       " 5,\n",
       " 5,\n",
       " 0,\n",
       " 4,\n",
       " 2,\n",
       " 2,\n",
       " 4,\n",
       " 5,\n",
       " 6,\n",
       " 4,\n",
       " 6,\n",
       " 1,\n",
       " 8,\n",
       " 9,\n",
       " 7,\n",
       " 8,\n",
       " 3,\n",
       " 3,\n",
       " 9,\n",
       " 4,\n",
       " 8,\n",
       " 8,\n",
       " 6,\n",
       " 8,\n",
       " 8,\n",
       " 6,\n",
       " 7,\n",
       " 7,\n",
       " 4,\n",
       " 9,\n",
       " 7,\n",
       " 5,\n",
       " 0,\n",
       " 4,\n",
       " 8,\n",
       " 8,\n",
       " 6,\n",
       " 0,\n",
       " 9,\n",
       " 4,\n",
       " 7,\n",
       " 1,\n",
       " 4,\n",
       " 0,\n",
       " 8,\n",
       " 0]"
      ]
     },
     "execution_count": 60,
     "metadata": {},
     "output_type": "execute_result"
    }
   ],
   "source": [
    "y_hat"
   ]
  },
  {
   "cell_type": "code",
   "execution_count": 61,
   "metadata": {},
   "outputs": [
    {
     "data": {
      "text/plain": [
       "array([[33,  0,  0,  0,  0,  1,  0,  0,  0,  0],\n",
       "       [ 0, 34,  0,  0,  0,  0,  0,  0,  0,  0],\n",
       "       [ 0,  0, 32,  0,  0,  0,  0,  0,  0,  0],\n",
       "       [ 0,  0,  0, 27,  0,  0,  0,  0,  3,  0],\n",
       "       [ 0,  0,  0,  0, 40,  0,  0,  0,  0,  0],\n",
       "       [ 0,  0,  0,  0,  0, 40,  0,  0,  0,  0],\n",
       "       [ 0,  0,  0,  0,  0,  0, 40,  0,  0,  0],\n",
       "       [ 0,  0,  0,  0,  1,  0,  0, 35,  0,  0],\n",
       "       [ 0,  0,  0,  0,  0,  0,  0,  0, 33,  0],\n",
       "       [ 0,  0,  0,  2,  0,  0,  0,  0,  2, 37]])"
      ]
     },
     "execution_count": 61,
     "metadata": {},
     "output_type": "execute_result"
    }
   ],
   "source": [
    "confusion_matrix(test_y.reshape(-1), y_hat)"
   ]
  },
  {
   "cell_type": "code",
   "execution_count": 62,
   "metadata": {},
   "outputs": [
    {
     "data": {
      "text/plain": [
       "(array([1.        , 1.        , 1.        , 0.93103448, 0.97560976,\n",
       "        0.97560976, 1.        , 1.        , 0.86842105, 1.        ]),\n",
       " array([0.97058824, 1.        , 1.        , 0.9       , 1.        ,\n",
       "        1.        , 1.        , 0.97222222, 1.        , 0.90243902]),\n",
       " array([0.98507463, 1.        , 1.        , 0.91525424, 0.98765432,\n",
       "        0.98765432, 1.        , 0.98591549, 0.92957746, 0.94871795]),\n",
       " array([34, 34, 32, 30, 40, 40, 40, 36, 33, 41]))"
      ]
     },
     "execution_count": 62,
     "metadata": {},
     "output_type": "execute_result"
    }
   ],
   "source": [
    "precision_recall_fscore_support(test_y.reshape(-1), y_hat)"
   ]
  },
  {
   "cell_type": "code",
   "execution_count": 63,
   "metadata": {},
   "outputs": [
    {
     "data": {
      "text/plain": [
       "0.975"
      ]
     },
     "execution_count": 63,
     "metadata": {},
     "output_type": "execute_result"
    }
   ],
   "source": [
    "accuracy_score(test_y.reshape(-1), y_hat)"
   ]
  },
  {
   "cell_type": "code",
   "execution_count": 64,
   "metadata": {
    "scrolled": true
   },
   "outputs": [
    {
     "name": "stdout",
     "output_type": "stream",
     "text": [
      "Model: \"sequential\"\n",
      "_________________________________________________________________\n",
      "Layer (type)                 Output Shape              Param #   \n",
      "=================================================================\n",
      "dense (Dense)                (None, 128)               8320      \n",
      "_________________________________________________________________\n",
      "dense_1 (Dense)              (None, 128)               16512     \n",
      "_________________________________________________________________\n",
      "dense_2 (Dense)              (None, 10)                1290      \n",
      "=================================================================\n",
      "Total params: 26,122\n",
      "Trainable params: 26,122\n",
      "Non-trainable params: 0\n",
      "_________________________________________________________________\n"
     ]
    }
   ],
   "source": [
    "model.summary()"
   ]
  },
  {
   "cell_type": "markdown",
   "metadata": {},
   "source": [
    "Теперь сверточные сети."
   ]
  },
  {
   "cell_type": "code",
   "execution_count": 81,
   "metadata": {},
   "outputs": [],
   "source": [
    "model = keras.Sequential()\n",
    "model.add(layers.Conv1D(32, 3, activation='relu'))\n",
    "model.add(layers.Conv1D(32, 3, activation='relu'))\n",
    "model.add(layers.Flatten())\n",
    "model.add(layers.Dense(10, activation=\"softmax\"))\n",
    "\n",
    "model.compile(keras.optimizers.Adam(learning_rate=0.001), keras.losses.MeanSquaredError(reduction='sum'))\n"
   ]
  },
  {
   "cell_type": "code",
   "execution_count": 82,
   "metadata": {},
   "outputs": [],
   "source": [
    "train_x3 = train_x.reshape(-1, 64, 1)\n",
    "train_y3 = train_y2.reshape(-1, 10, 1)\n",
    "test_x3 = test_x.reshape(-1, 64, 1)\n",
    "test_y3 = test_y2.reshape(-1, 10, 1)"
   ]
  },
  {
   "cell_type": "code",
   "execution_count": 83,
   "metadata": {},
   "outputs": [
    {
     "name": "stdout",
     "output_type": "stream",
     "text": [
      "Epoch 1/20\n",
      "45/45 [==============================] - 0s 4ms/step - loss: 1.2457\n",
      "Epoch 2/20\n",
      "45/45 [==============================] - 0s 4ms/step - loss: 0.2872\n",
      "Epoch 3/20\n",
      "45/45 [==============================] - 0s 4ms/step - loss: 0.1959\n",
      "Epoch 4/20\n",
      "45/45 [==============================] - 0s 4ms/step - loss: 0.1643\n",
      "Epoch 5/20\n",
      "45/45 [==============================] - 0s 4ms/step - loss: 0.1105\n",
      "Epoch 6/20\n",
      "45/45 [==============================] - 0s 5ms/step - loss: 0.0723\n",
      "Epoch 7/20\n",
      "45/45 [==============================] - 0s 5ms/step - loss: 0.0491\n",
      "Epoch 8/20\n",
      "45/45 [==============================] - 0s 5ms/step - loss: 0.0430\n",
      "Epoch 9/20\n",
      "45/45 [==============================] - 0s 4ms/step - loss: 0.0367\n",
      "Epoch 10/20\n",
      "45/45 [==============================] - 0s 4ms/step - loss: 0.0238\n",
      "Epoch 11/20\n",
      "45/45 [==============================] - 0s 5ms/step - loss: 0.0208\n",
      "Epoch 12/20\n",
      "45/45 [==============================] - 0s 6ms/step - loss: 0.0197\n",
      "Epoch 13/20\n",
      "45/45 [==============================] - 0s 6ms/step - loss: 0.0177\n",
      "Epoch 14/20\n",
      "45/45 [==============================] - 0s 5ms/step - loss: 0.0165\n",
      "Epoch 15/20\n",
      "45/45 [==============================] - 0s 4ms/step - loss: 0.0151\n",
      "Epoch 16/20\n",
      "45/45 [==============================] - 0s 5ms/step - loss: 0.0176\n",
      "Epoch 17/20\n",
      "45/45 [==============================] - 0s 5ms/step - loss: 0.0129\n",
      "Epoch 18/20\n",
      "45/45 [==============================] - 0s 6ms/step - loss: 0.0151\n",
      "Epoch 19/20\n",
      "45/45 [==============================] - 0s 5ms/step - loss: 0.0175\n",
      "Epoch 20/20\n",
      "45/45 [==============================] - 0s 5ms/step - loss: 0.0271\n"
     ]
    },
    {
     "data": {
      "text/plain": [
       "<tensorflow.python.keras.callbacks.History at 0x7f684857c550>"
      ]
     },
     "execution_count": 83,
     "metadata": {},
     "output_type": "execute_result"
    }
   ],
   "source": [
    "model.fit(train_x3, train_y3, epochs=20)#, validation_data=(test_x3, test_y3))"
   ]
  },
  {
   "cell_type": "code",
   "execution_count": 84,
   "metadata": {},
   "outputs": [],
   "source": [
    "y_hat = model.predict(test_x3)"
   ]
  },
  {
   "cell_type": "code",
   "execution_count": 85,
   "metadata": {},
   "outputs": [],
   "source": [
    "y_hat = [np.argmax(y) for y in y_hat]"
   ]
  },
  {
   "cell_type": "code",
   "execution_count": 86,
   "metadata": {},
   "outputs": [
    {
     "data": {
      "text/plain": [
       "array([[42,  0,  0,  0,  0,  0,  0,  0,  0,  0],\n",
       "       [ 0, 46,  0,  0,  0,  0,  0,  0,  0,  1],\n",
       "       [ 0,  1, 38,  0,  0,  0,  0,  0,  0,  0],\n",
       "       [ 0,  0,  0, 22,  0,  0,  0,  0,  3,  0],\n",
       "       [ 0,  0,  0,  0, 34,  0,  0,  0,  0,  0],\n",
       "       [ 0,  0,  0,  0,  0, 34,  0,  0,  0,  2],\n",
       "       [ 0,  0,  0,  0,  0,  0, 37,  0,  0,  0],\n",
       "       [ 0,  0,  0,  0,  0,  0,  0, 35,  0,  0],\n",
       "       [ 0,  2,  0,  0,  1,  0,  0,  0, 28,  0],\n",
       "       [ 0,  0,  0,  0,  0,  0,  0,  0,  2, 32]])"
      ]
     },
     "execution_count": 86,
     "metadata": {},
     "output_type": "execute_result"
    }
   ],
   "source": [
    "confusion_matrix(test_y.reshape(-1), y_hat)"
   ]
  },
  {
   "cell_type": "code",
   "execution_count": 87,
   "metadata": {},
   "outputs": [
    {
     "data": {
      "text/plain": [
       "(array([1.        , 0.93877551, 1.        , 1.        , 0.97142857,\n",
       "        1.        , 1.        , 1.        , 0.84848485, 0.91428571]),\n",
       " array([1.        , 0.9787234 , 0.97435897, 0.88      , 1.        ,\n",
       "        0.94444444, 1.        , 1.        , 0.90322581, 0.94117647]),\n",
       " array([1.        , 0.95833333, 0.98701299, 0.93617021, 0.98550725,\n",
       "        0.97142857, 1.        , 1.        , 0.875     , 0.92753623]),\n",
       " array([42, 47, 39, 25, 34, 36, 37, 35, 31, 34]))"
      ]
     },
     "execution_count": 87,
     "metadata": {},
     "output_type": "execute_result"
    }
   ],
   "source": [
    "precision_recall_fscore_support(test_y.reshape(-1), y_hat)"
   ]
  },
  {
   "cell_type": "code",
   "execution_count": 88,
   "metadata": {},
   "outputs": [
    {
     "data": {
      "text/plain": [
       "0.9666666666666667"
      ]
     },
     "execution_count": 88,
     "metadata": {},
     "output_type": "execute_result"
    }
   ],
   "source": [
    "accuracy_score(test_y.reshape(-1), y_hat)"
   ]
  },
  {
   "cell_type": "code",
   "execution_count": 35,
   "metadata": {
    "scrolled": true
   },
   "outputs": [
    {
     "name": "stdout",
     "output_type": "stream",
     "text": [
      "Model: \"sequential_1\"\n",
      "_________________________________________________________________\n",
      "Layer (type)                 Output Shape              Param #   \n",
      "=================================================================\n",
      "conv1d (Conv1D)              multiple                  128       \n",
      "_________________________________________________________________\n",
      "conv1d_1 (Conv1D)            multiple                  3104      \n",
      "_________________________________________________________________\n",
      "flatten (Flatten)            multiple                  0         \n",
      "_________________________________________________________________\n",
      "dense_3 (Dense)              multiple                  19210     \n",
      "=================================================================\n",
      "Total params: 22,442\n",
      "Trainable params: 22,442\n",
      "Non-trainable params: 0\n",
      "_________________________________________________________________\n"
     ]
    }
   ],
   "source": [
    "model.summary()"
   ]
  },
  {
   "cell_type": "markdown",
   "metadata": {},
   "source": [
    "LSTM"
   ]
  },
  {
   "cell_type": "code",
   "execution_count": 106,
   "metadata": {},
   "outputs": [],
   "source": [
    "model = keras.Sequential()\n",
    "model.add(layers.Bidirectional(layers.LSTM(64)))\n",
    "# model.add(layers.Dropout(0.1))\n",
    "model.add(layers.Flatten())\n",
    "model.add(layers.Dense(10, activation=\"softmax\"))\n",
    "\n",
    "model.compile(keras.optimizers.Adam(learning_rate=0.001, clipnorm=1.), \n",
    "               keras.losses.MeanSquaredError(reduction='sum'),\n",
    "               metrics=[keras.metrics.Precision()])\n",
    "\n"
   ]
  },
  {
   "cell_type": "code",
   "execution_count": 107,
   "metadata": {},
   "outputs": [
    {
     "name": "stdout",
     "output_type": "stream",
     "text": [
      "Epoch 1/20\n",
      "45/45 [==============================] - 2s 42ms/step - loss: 2.7477 - precision_1: 0.0000e+00\n",
      "Epoch 2/20\n",
      "45/45 [==============================] - 2s 43ms/step - loss: 2.0372 - precision_1: 0.8847\n",
      "Epoch 3/20\n",
      "45/45 [==============================] - 2s 39ms/step - loss: 1.4847 - precision_1: 0.8974\n",
      "Epoch 4/20\n",
      "45/45 [==============================] - 2s 43ms/step - loss: 1.1605 - precision_1: 0.8813\n",
      "Epoch 5/20\n",
      "45/45 [==============================] - 2s 47ms/step - loss: 0.9592 - precision_1: 0.8901\n",
      "Epoch 6/20\n",
      "45/45 [==============================] - 2s 45ms/step - loss: 0.8144 - precision_1: 0.8902\n",
      "Epoch 7/20\n",
      "45/45 [==============================] - 2s 46ms/step - loss: 0.7928 - precision_1: 0.8919\n",
      "Epoch 8/20\n",
      "45/45 [==============================] - 2s 46ms/step - loss: 0.6399 - precision_1: 0.9191\n",
      "Epoch 9/20\n",
      "45/45 [==============================] - 2s 45ms/step - loss: 0.5709 - precision_1: 0.9235\n",
      "Epoch 10/20\n",
      "45/45 [==============================] - 3s 59ms/step - loss: 0.5722 - precision_1: 0.9146\n",
      "Epoch 11/20\n",
      "45/45 [==============================] - 3s 60ms/step - loss: 0.4500 - precision_1: 0.9399\n",
      "Epoch 12/20\n",
      "45/45 [==============================] - 3s 60ms/step - loss: 0.4156 - precision_1: 0.9447\n",
      "Epoch 13/20\n",
      "45/45 [==============================] - 2s 49ms/step - loss: 0.4071 - precision_1: 0.9400\n",
      "Epoch 14/20\n",
      "45/45 [==============================] - 2s 50ms/step - loss: 0.3753 - precision_1: 0.9454\n",
      "Epoch 15/20\n",
      "45/45 [==============================] - 2s 53ms/step - loss: 0.3711 - precision_1: 0.9471\n",
      "Epoch 16/20\n",
      "45/45 [==============================] - 2s 51ms/step - loss: 0.3343 - precision_1: 0.9504\n",
      "Epoch 17/20\n",
      "45/45 [==============================] - 2s 55ms/step - loss: 0.3025 - precision_1: 0.9566\n",
      "Epoch 18/20\n",
      "45/45 [==============================] - 2s 54ms/step - loss: 0.2506 - precision_1: 0.9630\n",
      "Epoch 19/20\n",
      "45/45 [==============================] - 2s 50ms/step - loss: 0.2689 - precision_1: 0.9657\n",
      "Epoch 20/20\n",
      "45/45 [==============================] - 2s 47ms/step - loss: 0.2824 - precision_1: 0.9558\n"
     ]
    },
    {
     "data": {
      "text/plain": [
       "<tensorflow.python.keras.callbacks.History at 0x7f684829e160>"
      ]
     },
     "execution_count": 107,
     "metadata": {},
     "output_type": "execute_result"
    }
   ],
   "source": [
    "model.fit(train_x3, train_y3, epochs=20)"
   ]
  },
  {
   "cell_type": "code",
   "execution_count": 108,
   "metadata": {},
   "outputs": [],
   "source": [
    "y_hat = model.predict(test_x3)"
   ]
  },
  {
   "cell_type": "code",
   "execution_count": 109,
   "metadata": {},
   "outputs": [],
   "source": [
    "y_hat = [np.argmax(y) for y in y_hat]"
   ]
  },
  {
   "cell_type": "code",
   "execution_count": 110,
   "metadata": {},
   "outputs": [
    {
     "data": {
      "text/plain": [
       "array([[5, 9, 3, 3, 2, 2, 1, 2, 0, 3],\n",
       "       [2, 6, 3, 3, 5, 2, 2, 8, 2, 6],\n",
       "       [3, 6, 2, 2, 5, 9, 6, 1, 8, 2],\n",
       "       [2, 3, 4, 1, 3, 4, 5, 4, 2, 6],\n",
       "       [4, 4, 1, 2, 5, 4, 1, 3, 3, 4],\n",
       "       [6, 3, 5, 3, 3, 5, 9, 4, 4, 1],\n",
       "       [4, 3, 5, 1, 2, 4, 2, 3, 2, 6],\n",
       "       [8, 3, 6, 1, 2, 2, 1, 3, 3, 2],\n",
       "       [5, 5, 6, 4, 2, 2, 5, 5, 4, 2],\n",
       "       [6, 7, 3, 0, 4, 4, 3, 4, 5, 0]])"
      ]
     },
     "execution_count": 110,
     "metadata": {},
     "output_type": "execute_result"
    }
   ],
   "source": [
    "confusion_matrix(test_y.reshape(-1), y_hat)"
   ]
  },
  {
   "cell_type": "code",
   "execution_count": 111,
   "metadata": {},
   "outputs": [
    {
     "data": {
      "text/plain": [
       "(array([0.11111111, 0.12244898, 0.05263158, 0.05      , 0.15151515,\n",
       "        0.13157895, 0.05714286, 0.08108108, 0.12121212, 0.        ]),\n",
       " array([0.16666667, 0.15384615, 0.04545455, 0.02941176, 0.16129032,\n",
       "        0.11627907, 0.0625    , 0.09677419, 0.1       , 0.        ]),\n",
       " array([0.13333333, 0.13636364, 0.04878049, 0.03703704, 0.15625   ,\n",
       "        0.12345679, 0.05970149, 0.08823529, 0.10958904, 0.        ]),\n",
       " array([30, 39, 44, 34, 31, 43, 32, 31, 40, 36]))"
      ]
     },
     "execution_count": 111,
     "metadata": {},
     "output_type": "execute_result"
    }
   ],
   "source": [
    "precision_recall_fscore_support(test_y.reshape(-1), y_hat)"
   ]
  },
  {
   "cell_type": "code",
   "execution_count": 112,
   "metadata": {},
   "outputs": [
    {
     "data": {
      "text/plain": [
       "0.09166666666666666"
      ]
     },
     "execution_count": 112,
     "metadata": {},
     "output_type": "execute_result"
    }
   ],
   "source": [
    "accuracy_score(test_y.reshape(-1), y_hat)"
   ]
  },
  {
   "cell_type": "code",
   "execution_count": 113,
   "metadata": {
    "scrolled": true
   },
   "outputs": [
    {
     "name": "stdout",
     "output_type": "stream",
     "text": [
      "Model: \"sequential_6\"\n",
      "_________________________________________________________________\n",
      "Layer (type)                 Output Shape              Param #   \n",
      "=================================================================\n",
      "bidirectional_1 (Bidirection multiple                  33792     \n",
      "_________________________________________________________________\n",
      "flatten_3 (Flatten)          multiple                  0         \n",
      "_________________________________________________________________\n",
      "dense_12 (Dense)             multiple                  1290      \n",
      "=================================================================\n",
      "Total params: 35,082\n",
      "Trainable params: 35,082\n",
      "Non-trainable params: 0\n",
      "_________________________________________________________________\n"
     ]
    }
   ],
   "source": [
    "model.summary()"
   ]
  },
  {
   "cell_type": "code",
   "execution_count": null,
   "metadata": {},
   "outputs": [],
   "source": []
  }
 ],
 "metadata": {
  "kernelspec": {
   "display_name": "Python 3 (ipykernel)",
   "language": "python",
   "name": "python3"
  },
  "language_info": {
   "codemirror_mode": {
    "name": "ipython",
    "version": 3
   },
   "file_extension": ".py",
   "mimetype": "text/x-python",
   "name": "python",
   "nbconvert_exporter": "python",
   "pygments_lexer": "ipython3",
   "version": "3.10.6"
  }
 },
 "nbformat": 4,
 "nbformat_minor": 2
}
